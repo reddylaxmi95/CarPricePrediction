{
  "nbformat": 4,
  "nbformat_minor": 0,
  "metadata": {
    "kernelspec": {
      "display_name": "Python 3",
      "language": "python",
      "name": "python3"
    },
    "language_info": {
      "codemirror_mode": {
        "name": "ipython",
        "version": 3
      },
      "file_extension": ".py",
      "mimetype": "text/x-python",
      "name": "python",
      "nbconvert_exporter": "python",
      "pygments_lexer": "ipython3",
      "version": "3.8.5"
    },
    "colab": {
      "name": "Machine_Hackathon.ipynb",
      "provenance": [],
      "collapsed_sections": []
    },
    "accelerator": "TPU"
  },
  "cells": [
    {
      "cell_type": "code",
      "metadata": {
        "colab": {
          "base_uri": "https://localhost:8080/"
        },
        "id": "pyy46yCe7vq1",
        "outputId": "66d75436-f698-4d99-becf-750aedd55d8f"
      },
      "source": [
        "from google.colab import drive\n",
        "drive.mount('/content/drive')"
      ],
      "execution_count": null,
      "outputs": [
        {
          "output_type": "stream",
          "text": [
            "Mounted at /content/drive\n"
          ],
          "name": "stdout"
        }
      ]
    },
    {
      "cell_type": "code",
      "metadata": {
        "id": "JVVuwLlr7kVW"
      },
      "source": [
        "import pandas as pd\n",
        "import numpy as np\n",
        "from matplotlib import pyplot as plt\n",
        "import seaborn as sns\n",
        "from warnings import filterwarnings\n",
        "from pandas.api.types import is_string_dtype\n",
        "filterwarnings('ignore')\n",
        "\n",
        "pd.options.display.max_columns = None\n",
        "#plt.rcParams['figure.figsize'] = [10,10]"
      ],
      "execution_count": null,
      "outputs": []
    },
    {
      "cell_type": "code",
      "metadata": {
        "id": "opT1Ms4N7kVe"
      },
      "source": [
        "df = pd.read_csv(r'/content/drive/MyDrive/ML Projects/Car_Price_Prediction/train.csv')\n",
        "dt = pd.read_csv(r'/content/drive/MyDrive/ML Projects/Car_Price_Prediction/test.csv')"
      ],
      "execution_count": null,
      "outputs": []
    },
    {
      "cell_type": "code",
      "metadata": {
        "id": "6oUXTaqW7kVf",
        "colab": {
          "base_uri": "https://localhost:8080/",
          "height": 347
        },
        "outputId": "ce8bf629-fd39-4b34-a28f-5399959a3a16"
      },
      "source": [
        "df.head()"
      ],
      "execution_count": null,
      "outputs": [
        {
          "output_type": "execute_result",
          "data": {
            "text/html": [
              "<div>\n",
              "<style scoped>\n",
              "    .dataframe tbody tr th:only-of-type {\n",
              "        vertical-align: middle;\n",
              "    }\n",
              "\n",
              "    .dataframe tbody tr th {\n",
              "        vertical-align: top;\n",
              "    }\n",
              "\n",
              "    .dataframe thead th {\n",
              "        text-align: right;\n",
              "    }\n",
              "</style>\n",
              "<table border=\"1\" class=\"dataframe\">\n",
              "  <thead>\n",
              "    <tr style=\"text-align: right;\">\n",
              "      <th></th>\n",
              "      <th>ID</th>\n",
              "      <th>Price</th>\n",
              "      <th>Levy</th>\n",
              "      <th>Manufacturer</th>\n",
              "      <th>Model</th>\n",
              "      <th>Prod. year</th>\n",
              "      <th>Category</th>\n",
              "      <th>Leather interior</th>\n",
              "      <th>Fuel type</th>\n",
              "      <th>Engine volume</th>\n",
              "      <th>Mileage</th>\n",
              "      <th>Cylinders</th>\n",
              "      <th>Gear box type</th>\n",
              "      <th>Drive wheels</th>\n",
              "      <th>Doors</th>\n",
              "      <th>Wheel</th>\n",
              "      <th>Color</th>\n",
              "      <th>Airbags</th>\n",
              "    </tr>\n",
              "  </thead>\n",
              "  <tbody>\n",
              "    <tr>\n",
              "      <th>0</th>\n",
              "      <td>45654403</td>\n",
              "      <td>13328</td>\n",
              "      <td>1399</td>\n",
              "      <td>LEXUS</td>\n",
              "      <td>RX 450</td>\n",
              "      <td>2010</td>\n",
              "      <td>Jeep</td>\n",
              "      <td>Yes</td>\n",
              "      <td>Hybrid</td>\n",
              "      <td>3.5</td>\n",
              "      <td>186005 km</td>\n",
              "      <td>6.0</td>\n",
              "      <td>Automatic</td>\n",
              "      <td>4x4</td>\n",
              "      <td>04-May</td>\n",
              "      <td>Left wheel</td>\n",
              "      <td>Silver</td>\n",
              "      <td>12</td>\n",
              "    </tr>\n",
              "    <tr>\n",
              "      <th>1</th>\n",
              "      <td>44731507</td>\n",
              "      <td>16621</td>\n",
              "      <td>1018</td>\n",
              "      <td>CHEVROLET</td>\n",
              "      <td>Equinox</td>\n",
              "      <td>2011</td>\n",
              "      <td>Jeep</td>\n",
              "      <td>No</td>\n",
              "      <td>Petrol</td>\n",
              "      <td>3</td>\n",
              "      <td>192000 km</td>\n",
              "      <td>6.0</td>\n",
              "      <td>Tiptronic</td>\n",
              "      <td>4x4</td>\n",
              "      <td>04-May</td>\n",
              "      <td>Left wheel</td>\n",
              "      <td>Black</td>\n",
              "      <td>8</td>\n",
              "    </tr>\n",
              "    <tr>\n",
              "      <th>2</th>\n",
              "      <td>45774419</td>\n",
              "      <td>8467</td>\n",
              "      <td>-</td>\n",
              "      <td>HONDA</td>\n",
              "      <td>FIT</td>\n",
              "      <td>2006</td>\n",
              "      <td>Hatchback</td>\n",
              "      <td>No</td>\n",
              "      <td>Petrol</td>\n",
              "      <td>1.3</td>\n",
              "      <td>200000 km</td>\n",
              "      <td>4.0</td>\n",
              "      <td>Variator</td>\n",
              "      <td>Front</td>\n",
              "      <td>04-May</td>\n",
              "      <td>Right-hand drive</td>\n",
              "      <td>Black</td>\n",
              "      <td>2</td>\n",
              "    </tr>\n",
              "    <tr>\n",
              "      <th>3</th>\n",
              "      <td>45769185</td>\n",
              "      <td>3607</td>\n",
              "      <td>862</td>\n",
              "      <td>FORD</td>\n",
              "      <td>Escape</td>\n",
              "      <td>2011</td>\n",
              "      <td>Jeep</td>\n",
              "      <td>Yes</td>\n",
              "      <td>Hybrid</td>\n",
              "      <td>2.5</td>\n",
              "      <td>168966 km</td>\n",
              "      <td>4.0</td>\n",
              "      <td>Automatic</td>\n",
              "      <td>4x4</td>\n",
              "      <td>04-May</td>\n",
              "      <td>Left wheel</td>\n",
              "      <td>White</td>\n",
              "      <td>0</td>\n",
              "    </tr>\n",
              "    <tr>\n",
              "      <th>4</th>\n",
              "      <td>45809263</td>\n",
              "      <td>11726</td>\n",
              "      <td>446</td>\n",
              "      <td>HONDA</td>\n",
              "      <td>FIT</td>\n",
              "      <td>2014</td>\n",
              "      <td>Hatchback</td>\n",
              "      <td>Yes</td>\n",
              "      <td>Petrol</td>\n",
              "      <td>1.3</td>\n",
              "      <td>91901 km</td>\n",
              "      <td>4.0</td>\n",
              "      <td>Automatic</td>\n",
              "      <td>Front</td>\n",
              "      <td>04-May</td>\n",
              "      <td>Left wheel</td>\n",
              "      <td>Silver</td>\n",
              "      <td>4</td>\n",
              "    </tr>\n",
              "  </tbody>\n",
              "</table>\n",
              "</div>"
            ],
            "text/plain": [
              "         ID  Price  Levy Manufacturer    Model  Prod. year   Category  \\\n",
              "0  45654403  13328  1399        LEXUS   RX 450        2010       Jeep   \n",
              "1  44731507  16621  1018    CHEVROLET  Equinox        2011       Jeep   \n",
              "2  45774419   8467     -        HONDA      FIT        2006  Hatchback   \n",
              "3  45769185   3607   862         FORD   Escape        2011       Jeep   \n",
              "4  45809263  11726   446        HONDA      FIT        2014  Hatchback   \n",
              "\n",
              "  Leather interior Fuel type Engine volume    Mileage  Cylinders  \\\n",
              "0              Yes    Hybrid           3.5  186005 km        6.0   \n",
              "1               No    Petrol             3  192000 km        6.0   \n",
              "2               No    Petrol           1.3  200000 km        4.0   \n",
              "3              Yes    Hybrid           2.5  168966 km        4.0   \n",
              "4              Yes    Petrol           1.3   91901 km        4.0   \n",
              "\n",
              "  Gear box type Drive wheels   Doors             Wheel   Color  Airbags  \n",
              "0     Automatic          4x4  04-May        Left wheel  Silver       12  \n",
              "1     Tiptronic          4x4  04-May        Left wheel   Black        8  \n",
              "2      Variator        Front  04-May  Right-hand drive   Black        2  \n",
              "3     Automatic          4x4  04-May        Left wheel   White        0  \n",
              "4     Automatic        Front  04-May        Left wheel  Silver        4  "
            ]
          },
          "metadata": {
            "tags": []
          },
          "execution_count": 5
        }
      ]
    },
    {
      "cell_type": "code",
      "metadata": {
        "id": "WzZ2i7pB7kVi",
        "colab": {
          "base_uri": "https://localhost:8080/",
          "height": 347
        },
        "outputId": "c24380fd-9e6a-4e35-d0f9-abffb9858541"
      },
      "source": [
        "dt.head()"
      ],
      "execution_count": null,
      "outputs": [
        {
          "output_type": "execute_result",
          "data": {
            "text/html": [
              "<div>\n",
              "<style scoped>\n",
              "    .dataframe tbody tr th:only-of-type {\n",
              "        vertical-align: middle;\n",
              "    }\n",
              "\n",
              "    .dataframe tbody tr th {\n",
              "        vertical-align: top;\n",
              "    }\n",
              "\n",
              "    .dataframe thead th {\n",
              "        text-align: right;\n",
              "    }\n",
              "</style>\n",
              "<table border=\"1\" class=\"dataframe\">\n",
              "  <thead>\n",
              "    <tr style=\"text-align: right;\">\n",
              "      <th></th>\n",
              "      <th>ID</th>\n",
              "      <th>Levy</th>\n",
              "      <th>Manufacturer</th>\n",
              "      <th>Model</th>\n",
              "      <th>Prod. year</th>\n",
              "      <th>Category</th>\n",
              "      <th>Leather interior</th>\n",
              "      <th>Fuel type</th>\n",
              "      <th>Engine volume</th>\n",
              "      <th>Mileage</th>\n",
              "      <th>Cylinders</th>\n",
              "      <th>Gear box type</th>\n",
              "      <th>Drive wheels</th>\n",
              "      <th>Doors</th>\n",
              "      <th>Wheel</th>\n",
              "      <th>Color</th>\n",
              "      <th>Airbags</th>\n",
              "      <th>Price</th>\n",
              "    </tr>\n",
              "  </thead>\n",
              "  <tbody>\n",
              "    <tr>\n",
              "      <th>0</th>\n",
              "      <td>44020629</td>\n",
              "      <td>-</td>\n",
              "      <td>VOLKSWAGEN</td>\n",
              "      <td>Golf</td>\n",
              "      <td>2012</td>\n",
              "      <td>Hatchback</td>\n",
              "      <td>No</td>\n",
              "      <td>Diesel</td>\n",
              "      <td>2.0 Turbo</td>\n",
              "      <td>0 km</td>\n",
              "      <td>4</td>\n",
              "      <td>Manual</td>\n",
              "      <td>Front</td>\n",
              "      <td>02-Mar</td>\n",
              "      <td>Left wheel</td>\n",
              "      <td>Grey</td>\n",
              "      <td>10</td>\n",
              "      <td>NaN</td>\n",
              "    </tr>\n",
              "    <tr>\n",
              "      <th>1</th>\n",
              "      <td>45784798</td>\n",
              "      <td>-</td>\n",
              "      <td>HYUNDAI</td>\n",
              "      <td>Sonata</td>\n",
              "      <td>2012</td>\n",
              "      <td>Sedan</td>\n",
              "      <td>Yes</td>\n",
              "      <td>Petrol</td>\n",
              "      <td>2.4</td>\n",
              "      <td>26000 km</td>\n",
              "      <td>4</td>\n",
              "      <td>Tiptronic</td>\n",
              "      <td>Front</td>\n",
              "      <td>04-May</td>\n",
              "      <td>Left wheel</td>\n",
              "      <td>Grey</td>\n",
              "      <td>10</td>\n",
              "      <td>NaN</td>\n",
              "    </tr>\n",
              "    <tr>\n",
              "      <th>2</th>\n",
              "      <td>45800257</td>\n",
              "      <td>-</td>\n",
              "      <td>NISSAN</td>\n",
              "      <td>Tiida</td>\n",
              "      <td>2005</td>\n",
              "      <td>Sedan</td>\n",
              "      <td>No</td>\n",
              "      <td>Petrol</td>\n",
              "      <td>1.5</td>\n",
              "      <td>168000 km</td>\n",
              "      <td>4</td>\n",
              "      <td>Automatic</td>\n",
              "      <td>Front</td>\n",
              "      <td>04-May</td>\n",
              "      <td>Right-hand drive</td>\n",
              "      <td>Sky blue</td>\n",
              "      <td>8</td>\n",
              "      <td>NaN</td>\n",
              "    </tr>\n",
              "    <tr>\n",
              "      <th>3</th>\n",
              "      <td>45797981</td>\n",
              "      <td>975</td>\n",
              "      <td>VOLVO</td>\n",
              "      <td>XC90</td>\n",
              "      <td>2012</td>\n",
              "      <td>Jeep</td>\n",
              "      <td>Yes</td>\n",
              "      <td>Petrol</td>\n",
              "      <td>3.2</td>\n",
              "      <td>143000 km</td>\n",
              "      <td>6</td>\n",
              "      <td>Automatic</td>\n",
              "      <td>4x4</td>\n",
              "      <td>04-May</td>\n",
              "      <td>Left wheel</td>\n",
              "      <td>Blue</td>\n",
              "      <td>12</td>\n",
              "      <td>NaN</td>\n",
              "    </tr>\n",
              "    <tr>\n",
              "      <th>4</th>\n",
              "      <td>45814303</td>\n",
              "      <td>-</td>\n",
              "      <td>OPEL</td>\n",
              "      <td>Astra</td>\n",
              "      <td>1993</td>\n",
              "      <td>Hatchback</td>\n",
              "      <td>No</td>\n",
              "      <td>Petrol</td>\n",
              "      <td>1.6</td>\n",
              "      <td>200000 km</td>\n",
              "      <td>4</td>\n",
              "      <td>Manual</td>\n",
              "      <td>Front</td>\n",
              "      <td>04-May</td>\n",
              "      <td>Left wheel</td>\n",
              "      <td>Black</td>\n",
              "      <td>0</td>\n",
              "      <td>NaN</td>\n",
              "    </tr>\n",
              "  </tbody>\n",
              "</table>\n",
              "</div>"
            ],
            "text/plain": [
              "         ID Levy Manufacturer   Model  Prod. year   Category Leather interior  \\\n",
              "0  44020629    -   VOLKSWAGEN    Golf        2012  Hatchback               No   \n",
              "1  45784798    -      HYUNDAI  Sonata        2012      Sedan              Yes   \n",
              "2  45800257    -       NISSAN   Tiida        2005      Sedan               No   \n",
              "3  45797981  975        VOLVO    XC90        2012       Jeep              Yes   \n",
              "4  45814303    -         OPEL   Astra        1993  Hatchback               No   \n",
              "\n",
              "  Fuel type Engine volume    Mileage  Cylinders Gear box type Drive wheels  \\\n",
              "0    Diesel     2.0 Turbo       0 km          4        Manual        Front   \n",
              "1    Petrol           2.4   26000 km          4     Tiptronic        Front   \n",
              "2    Petrol           1.5  168000 km          4     Automatic        Front   \n",
              "3    Petrol           3.2  143000 km          6     Automatic          4x4   \n",
              "4    Petrol           1.6  200000 km          4        Manual        Front   \n",
              "\n",
              "    Doors             Wheel     Color  Airbags  Price  \n",
              "0  02-Mar        Left wheel      Grey       10    NaN  \n",
              "1  04-May        Left wheel      Grey       10    NaN  \n",
              "2  04-May  Right-hand drive  Sky blue        8    NaN  \n",
              "3  04-May        Left wheel      Blue       12    NaN  \n",
              "4  04-May        Left wheel     Black        0    NaN  "
            ]
          },
          "metadata": {
            "tags": []
          },
          "execution_count": 6
        }
      ]
    },
    {
      "cell_type": "code",
      "metadata": {
        "id": "v2UKcCrK7kVk",
        "colab": {
          "base_uri": "https://localhost:8080/"
        },
        "outputId": "d26b235c-d5ef-47ab-a02b-9f01be4afa9a"
      },
      "source": [
        "df.shape, dt.shape"
      ],
      "execution_count": null,
      "outputs": [
        {
          "output_type": "execute_result",
          "data": {
            "text/plain": [
              "((19237, 18), (8245, 18))"
            ]
          },
          "metadata": {
            "tags": []
          },
          "execution_count": 7
        }
      ]
    },
    {
      "cell_type": "code",
      "metadata": {
        "id": "nI_-dqhl7kVm"
      },
      "source": [
        "#saving the dependent variable in target\n",
        "target = df['Price']"
      ],
      "execution_count": null,
      "outputs": []
    },
    {
      "cell_type": "code",
      "metadata": {
        "id": "qCYP_cPk7kVn"
      },
      "source": [
        "#combining both training and testing  dataset\n",
        "da = df.drop(['Price'],axis=1)\n",
        "dt=dt.drop(['Price'],axis=1)\n",
        "combined_data = da.append(dt)\n",
        "combined_data.reset_index(inplace=True)\n",
        "combined_data = combined_data.drop(['index'],axis=1)"
      ],
      "execution_count": null,
      "outputs": []
    },
    {
      "cell_type": "code",
      "metadata": {
        "id": "QAG2J1AA7kVq",
        "colab": {
          "base_uri": "https://localhost:8080/"
        },
        "outputId": "748e8737-0254-4628-82ba-0b1832d7e4aa"
      },
      "source": [
        "combined_data.shape"
      ],
      "execution_count": null,
      "outputs": [
        {
          "output_type": "execute_result",
          "data": {
            "text/plain": [
              "(27482, 17)"
            ]
          },
          "metadata": {
            "tags": []
          },
          "execution_count": 10
        }
      ]
    },
    {
      "cell_type": "markdown",
      "metadata": {
        "id": "V9y5oKki7kVt"
      },
      "source": [
        "EDA Process will be done on the training Data only where as Data cleaning will be applied on Combined_data and training data"
      ]
    },
    {
      "cell_type": "code",
      "metadata": {
        "id": "2xfs2Vq77kVy"
      },
      "source": [
        "#checking the dtypes and Unique values\n",
        "info = pd.DataFrame()\n",
        "info['DataTypes'] = df.dtypes\n",
        "info['Unique_values'] = df.nunique()"
      ],
      "execution_count": null,
      "outputs": []
    },
    {
      "cell_type": "code",
      "metadata": {
        "id": "3vlYuCBx7kVz",
        "colab": {
          "base_uri": "https://localhost:8080/",
          "height": 582
        },
        "outputId": "62706a21-4a64-43f6-c371-4dad005eb4f0"
      },
      "source": [
        "info.sort_values(by=['Unique_values'])"
      ],
      "execution_count": null,
      "outputs": [
        {
          "output_type": "execute_result",
          "data": {
            "text/html": [
              "<div>\n",
              "<style scoped>\n",
              "    .dataframe tbody tr th:only-of-type {\n",
              "        vertical-align: middle;\n",
              "    }\n",
              "\n",
              "    .dataframe tbody tr th {\n",
              "        vertical-align: top;\n",
              "    }\n",
              "\n",
              "    .dataframe thead th {\n",
              "        text-align: right;\n",
              "    }\n",
              "</style>\n",
              "<table border=\"1\" class=\"dataframe\">\n",
              "  <thead>\n",
              "    <tr style=\"text-align: right;\">\n",
              "      <th></th>\n",
              "      <th>DataTypes</th>\n",
              "      <th>Unique_values</th>\n",
              "    </tr>\n",
              "  </thead>\n",
              "  <tbody>\n",
              "    <tr>\n",
              "      <th>Wheel</th>\n",
              "      <td>object</td>\n",
              "      <td>2</td>\n",
              "    </tr>\n",
              "    <tr>\n",
              "      <th>Leather interior</th>\n",
              "      <td>object</td>\n",
              "      <td>2</td>\n",
              "    </tr>\n",
              "    <tr>\n",
              "      <th>Doors</th>\n",
              "      <td>object</td>\n",
              "      <td>3</td>\n",
              "    </tr>\n",
              "    <tr>\n",
              "      <th>Drive wheels</th>\n",
              "      <td>object</td>\n",
              "      <td>3</td>\n",
              "    </tr>\n",
              "    <tr>\n",
              "      <th>Gear box type</th>\n",
              "      <td>object</td>\n",
              "      <td>4</td>\n",
              "    </tr>\n",
              "    <tr>\n",
              "      <th>Fuel type</th>\n",
              "      <td>object</td>\n",
              "      <td>7</td>\n",
              "    </tr>\n",
              "    <tr>\n",
              "      <th>Category</th>\n",
              "      <td>object</td>\n",
              "      <td>11</td>\n",
              "    </tr>\n",
              "    <tr>\n",
              "      <th>Cylinders</th>\n",
              "      <td>float64</td>\n",
              "      <td>13</td>\n",
              "    </tr>\n",
              "    <tr>\n",
              "      <th>Color</th>\n",
              "      <td>object</td>\n",
              "      <td>16</td>\n",
              "    </tr>\n",
              "    <tr>\n",
              "      <th>Airbags</th>\n",
              "      <td>int64</td>\n",
              "      <td>17</td>\n",
              "    </tr>\n",
              "    <tr>\n",
              "      <th>Prod. year</th>\n",
              "      <td>int64</td>\n",
              "      <td>54</td>\n",
              "    </tr>\n",
              "    <tr>\n",
              "      <th>Manufacturer</th>\n",
              "      <td>object</td>\n",
              "      <td>65</td>\n",
              "    </tr>\n",
              "    <tr>\n",
              "      <th>Engine volume</th>\n",
              "      <td>object</td>\n",
              "      <td>107</td>\n",
              "    </tr>\n",
              "    <tr>\n",
              "      <th>Levy</th>\n",
              "      <td>object</td>\n",
              "      <td>559</td>\n",
              "    </tr>\n",
              "    <tr>\n",
              "      <th>Model</th>\n",
              "      <td>object</td>\n",
              "      <td>1590</td>\n",
              "    </tr>\n",
              "    <tr>\n",
              "      <th>Price</th>\n",
              "      <td>int64</td>\n",
              "      <td>2315</td>\n",
              "    </tr>\n",
              "    <tr>\n",
              "      <th>Mileage</th>\n",
              "      <td>object</td>\n",
              "      <td>7687</td>\n",
              "    </tr>\n",
              "  </tbody>\n",
              "</table>\n",
              "</div>"
            ],
            "text/plain": [
              "                 DataTypes  Unique_values\n",
              "Wheel               object              2\n",
              "Leather interior    object              2\n",
              "Doors               object              3\n",
              "Drive wheels        object              3\n",
              "Gear box type       object              4\n",
              "Fuel type           object              7\n",
              "Category            object             11\n",
              "Cylinders          float64             13\n",
              "Color               object             16\n",
              "Airbags              int64             17\n",
              "Prod. year           int64             54\n",
              "Manufacturer        object             65\n",
              "Engine volume       object            107\n",
              "Levy                object            559\n",
              "Model               object           1590\n",
              "Price                int64           2315\n",
              "Mileage             object           7687"
            ]
          },
          "metadata": {
            "tags": []
          },
          "execution_count": 14
        }
      ]
    },
    {
      "cell_type": "code",
      "metadata": {
        "id": "AeahA2O-7kV1"
      },
      "source": [
        "#converting the Levy column to float as it is the Tax \n",
        "df.Levy = pd.to_numeric(df.Levy.replace('-', '0'), downcast='float')\n",
        "combined_data.Levy = pd.to_numeric((combined_data.Levy.replace('-','0')), downcast='float')\n"
      ],
      "execution_count": null,
      "outputs": []
    },
    {
      "cell_type": "code",
      "metadata": {
        "id": "FyU2RcuF7kV3",
        "colab": {
          "base_uri": "https://localhost:8080/",
          "height": 300
        },
        "outputId": "079fda56-8a96-4af1-e3fc-5c571f07b41e"
      },
      "source": [
        "df.describe()"
      ],
      "execution_count": null,
      "outputs": [
        {
          "output_type": "execute_result",
          "data": {
            "text/html": [
              "<div>\n",
              "<style scoped>\n",
              "    .dataframe tbody tr th:only-of-type {\n",
              "        vertical-align: middle;\n",
              "    }\n",
              "\n",
              "    .dataframe tbody tr th {\n",
              "        vertical-align: top;\n",
              "    }\n",
              "\n",
              "    .dataframe thead th {\n",
              "        text-align: right;\n",
              "    }\n",
              "</style>\n",
              "<table border=\"1\" class=\"dataframe\">\n",
              "  <thead>\n",
              "    <tr style=\"text-align: right;\">\n",
              "      <th></th>\n",
              "      <th>Price</th>\n",
              "      <th>Levy</th>\n",
              "      <th>Prod. year</th>\n",
              "      <th>Cylinders</th>\n",
              "      <th>Airbags</th>\n",
              "    </tr>\n",
              "  </thead>\n",
              "  <tbody>\n",
              "    <tr>\n",
              "      <th>count</th>\n",
              "      <td>1.923700e+04</td>\n",
              "      <td>19237.000000</td>\n",
              "      <td>19237.000000</td>\n",
              "      <td>19237.000000</td>\n",
              "      <td>19237.000000</td>\n",
              "    </tr>\n",
              "    <tr>\n",
              "      <th>mean</th>\n",
              "      <td>1.855593e+04</td>\n",
              "      <td>632.528687</td>\n",
              "      <td>2010.912824</td>\n",
              "      <td>4.582991</td>\n",
              "      <td>6.582627</td>\n",
              "    </tr>\n",
              "    <tr>\n",
              "      <th>std</th>\n",
              "      <td>1.905813e+05</td>\n",
              "      <td>567.708252</td>\n",
              "      <td>5.668673</td>\n",
              "      <td>1.199933</td>\n",
              "      <td>4.320168</td>\n",
              "    </tr>\n",
              "    <tr>\n",
              "      <th>min</th>\n",
              "      <td>1.000000e+00</td>\n",
              "      <td>0.000000</td>\n",
              "      <td>1939.000000</td>\n",
              "      <td>1.000000</td>\n",
              "      <td>0.000000</td>\n",
              "    </tr>\n",
              "    <tr>\n",
              "      <th>25%</th>\n",
              "      <td>5.331000e+03</td>\n",
              "      <td>0.000000</td>\n",
              "      <td>2009.000000</td>\n",
              "      <td>4.000000</td>\n",
              "      <td>4.000000</td>\n",
              "    </tr>\n",
              "    <tr>\n",
              "      <th>50%</th>\n",
              "      <td>1.317200e+04</td>\n",
              "      <td>642.000000</td>\n",
              "      <td>2012.000000</td>\n",
              "      <td>4.000000</td>\n",
              "      <td>6.000000</td>\n",
              "    </tr>\n",
              "    <tr>\n",
              "      <th>75%</th>\n",
              "      <td>2.207500e+04</td>\n",
              "      <td>917.000000</td>\n",
              "      <td>2015.000000</td>\n",
              "      <td>4.000000</td>\n",
              "      <td>12.000000</td>\n",
              "    </tr>\n",
              "    <tr>\n",
              "      <th>max</th>\n",
              "      <td>2.630750e+07</td>\n",
              "      <td>11714.000000</td>\n",
              "      <td>2020.000000</td>\n",
              "      <td>16.000000</td>\n",
              "      <td>16.000000</td>\n",
              "    </tr>\n",
              "  </tbody>\n",
              "</table>\n",
              "</div>"
            ],
            "text/plain": [
              "              Price          Levy    Prod. year     Cylinders       Airbags\n",
              "count  1.923700e+04  19237.000000  19237.000000  19237.000000  19237.000000\n",
              "mean   1.855593e+04    632.528687   2010.912824      4.582991      6.582627\n",
              "std    1.905813e+05    567.708252      5.668673      1.199933      4.320168\n",
              "min    1.000000e+00      0.000000   1939.000000      1.000000      0.000000\n",
              "25%    5.331000e+03      0.000000   2009.000000      4.000000      4.000000\n",
              "50%    1.317200e+04    642.000000   2012.000000      4.000000      6.000000\n",
              "75%    2.207500e+04    917.000000   2015.000000      4.000000     12.000000\n",
              "max    2.630750e+07  11714.000000   2020.000000     16.000000     16.000000"
            ]
          },
          "metadata": {
            "tags": []
          },
          "execution_count": 16
        }
      ]
    },
    {
      "cell_type": "code",
      "metadata": {
        "id": "QkNSdJsO7kV4",
        "colab": {
          "base_uri": "https://localhost:8080/",
          "height": 175
        },
        "outputId": "8700d1f0-25c2-4c3f-df1d-ec4a974d2dce"
      },
      "source": [
        "df.describe(include='object')"
      ],
      "execution_count": null,
      "outputs": [
        {
          "output_type": "execute_result",
          "data": {
            "text/html": [
              "<div>\n",
              "<style scoped>\n",
              "    .dataframe tbody tr th:only-of-type {\n",
              "        vertical-align: middle;\n",
              "    }\n",
              "\n",
              "    .dataframe tbody tr th {\n",
              "        vertical-align: top;\n",
              "    }\n",
              "\n",
              "    .dataframe thead th {\n",
              "        text-align: right;\n",
              "    }\n",
              "</style>\n",
              "<table border=\"1\" class=\"dataframe\">\n",
              "  <thead>\n",
              "    <tr style=\"text-align: right;\">\n",
              "      <th></th>\n",
              "      <th>Manufacturer</th>\n",
              "      <th>Model</th>\n",
              "      <th>Category</th>\n",
              "      <th>Leather interior</th>\n",
              "      <th>Fuel type</th>\n",
              "      <th>Engine volume</th>\n",
              "      <th>Mileage</th>\n",
              "      <th>Gear box type</th>\n",
              "      <th>Drive wheels</th>\n",
              "      <th>Doors</th>\n",
              "      <th>Wheel</th>\n",
              "      <th>Color</th>\n",
              "    </tr>\n",
              "  </thead>\n",
              "  <tbody>\n",
              "    <tr>\n",
              "      <th>count</th>\n",
              "      <td>19237</td>\n",
              "      <td>19237</td>\n",
              "      <td>19237</td>\n",
              "      <td>19237</td>\n",
              "      <td>19237</td>\n",
              "      <td>19237</td>\n",
              "      <td>19237</td>\n",
              "      <td>19237</td>\n",
              "      <td>19237</td>\n",
              "      <td>19237</td>\n",
              "      <td>19237</td>\n",
              "      <td>19237</td>\n",
              "    </tr>\n",
              "    <tr>\n",
              "      <th>unique</th>\n",
              "      <td>65</td>\n",
              "      <td>1590</td>\n",
              "      <td>11</td>\n",
              "      <td>2</td>\n",
              "      <td>7</td>\n",
              "      <td>107</td>\n",
              "      <td>7687</td>\n",
              "      <td>4</td>\n",
              "      <td>3</td>\n",
              "      <td>3</td>\n",
              "      <td>2</td>\n",
              "      <td>16</td>\n",
              "    </tr>\n",
              "    <tr>\n",
              "      <th>top</th>\n",
              "      <td>HYUNDAI</td>\n",
              "      <td>Prius</td>\n",
              "      <td>Sedan</td>\n",
              "      <td>Yes</td>\n",
              "      <td>Petrol</td>\n",
              "      <td>2</td>\n",
              "      <td>0 km</td>\n",
              "      <td>Automatic</td>\n",
              "      <td>Front</td>\n",
              "      <td>04-May</td>\n",
              "      <td>Left wheel</td>\n",
              "      <td>Black</td>\n",
              "    </tr>\n",
              "    <tr>\n",
              "      <th>freq</th>\n",
              "      <td>3769</td>\n",
              "      <td>1083</td>\n",
              "      <td>8736</td>\n",
              "      <td>13954</td>\n",
              "      <td>10150</td>\n",
              "      <td>3916</td>\n",
              "      <td>721</td>\n",
              "      <td>13514</td>\n",
              "      <td>12874</td>\n",
              "      <td>18332</td>\n",
              "      <td>17753</td>\n",
              "      <td>5033</td>\n",
              "    </tr>\n",
              "  </tbody>\n",
              "</table>\n",
              "</div>"
            ],
            "text/plain": [
              "       Manufacturer  Model Category Leather interior Fuel type Engine volume  \\\n",
              "count         19237  19237    19237            19237     19237         19237   \n",
              "unique           65   1590       11                2         7           107   \n",
              "top         HYUNDAI  Prius    Sedan              Yes    Petrol             2   \n",
              "freq           3769   1083     8736            13954     10150          3916   \n",
              "\n",
              "       Mileage Gear box type Drive wheels   Doors       Wheel  Color  \n",
              "count    19237         19237        19237   19237       19237  19237  \n",
              "unique    7687             4            3       3           2     16  \n",
              "top       0 km     Automatic        Front  04-May  Left wheel  Black  \n",
              "freq       721         13514        12874   18332       17753   5033  "
            ]
          },
          "metadata": {
            "tags": []
          },
          "execution_count": 17
        }
      ]
    },
    {
      "cell_type": "code",
      "metadata": {
        "id": "0Kcjh1Lp7kV5",
        "colab": {
          "base_uri": "https://localhost:8080/",
          "height": 297
        },
        "outputId": "0b44917a-0b07-4a78-b067-e1aa73fdc237"
      },
      "source": [
        "#distribution of numeric variables\n",
        "df.hist()\n",
        "plt.tight_layout()\n",
        "plt.show()"
      ],
      "execution_count": null,
      "outputs": [
        {
          "output_type": "display_data",
          "data": {
            "image/png": "[encoded data removed]",
            "text/plain": [
              "<Figure size 432x288 with 6 Axes>"
            ]
          },
          "metadata": {
            "tags": [],
            "needs_background": "light"
          }
        }
      ]
    },
    {
      "cell_type": "code",
      "metadata": {
        "id": "AbJMFKCN7kV7",
        "colab": {
          "base_uri": "https://localhost:8080/",
          "height": 299
        },
        "outputId": "5ee19249-1ffc-4c13-b974-a6a0b3118a3c"
      },
      "source": [
        "dx = df['Price']\n",
        "plt.plot(dx)\n",
        "plt.title('Distribution of price')\n",
        "#this below plot shows that the dependednt variable is higly left skewed\n"
      ],
      "execution_count": null,
      "outputs": [
        {
          "output_type": "execute_result",
          "data": {
            "text/plain": [
              "Text(0.5, 1.0, 'Distribution of price')"
            ]
          },
          "metadata": {
            "tags": []
          },
          "execution_count": 19
        },
        {
          "output_type": "display_data",
          "data": {
            "image/png": "[encoded data removed]",
            "text/plain": [
              "<Figure size 432x288 with 1 Axes>"
            ]
          },
          "metadata": {
            "tags": [],
            "needs_background": "light"
          }
        }
      ]
    },
    {
      "cell_type": "code",
      "metadata": {
        "id": "pJcUtGrU7kV8",
        "colab": {
          "base_uri": "https://localhost:8080/"
        },
        "outputId": "5d3354b6-6336-4a69-9bab-308b1544c43e"
      },
      "source": [
        "#shapiro test to check the skewness\n",
        "from scipy.stats import shapiro\n",
        "x = shapiro(df['Price'])\n",
        "if x[1] <= 0:\n",
        "    print('Negatively skewed')\n",
        "else:\n",
        "    print('Positively Skewed')\n",
        "  "
      ],
      "execution_count": null,
      "outputs": [
        {
          "output_type": "stream",
          "text": [
            "Negatively skewed\n"
          ],
          "name": "stdout"
        }
      ]
    },
    {
      "cell_type": "code",
      "metadata": {
        "id": "mo0NfcUA7kV9",
        "colab": {
          "base_uri": "https://localhost:8080/",
          "height": 801
        },
        "outputId": "57988b34-ca43-4746-f901-3f124e4a0a29"
      },
      "source": [
        "categorical=[]\n",
        "\n",
        "for column in df:\n",
        "\n",
        "    # use 'if' statement with condition to check the categorical type \n",
        "    if is_string_dtype(df[column]):\n",
        "        \n",
        "        # append the variables with 'categoric' data type in the list 'categorical'\n",
        "        categorical.append(column)\n",
        "\n",
        "fig, ax = plt.subplots(4, 3, figsize = (50, 35))\n",
        "\n",
        "# use for loop to plot the count plot for each variable\n",
        "for variable, subplot in zip(categorical, ax.flatten()):\n",
        "    \n",
        "    # use countplot() to plot the graph\n",
        "    # pass the axes for the plot to the parameter, 'ax'\n",
        "    sns.countplot(df[variable], ax = subplot)\n",
        "    \n",
        "# display the plot\n",
        "plt.show()"
      ],
      "execution_count": null,
      "outputs": [
        {
          "output_type": "display_data",
          "data": {
            "image/png": "[encoded data removed]",
            "text/plain": [
              "<Figure size 3600x2520 with 12 Axes>"
            ]
          },
          "metadata": {
            "tags": [],
            "needs_background": "light"
          }
        }
      ]
    },
    {
      "cell_type": "code",
      "metadata": {
        "id": "9gkIKQse7kWA",
        "colab": {
          "base_uri": "https://localhost:8080/",
          "height": 341
        },
        "outputId": "18498075-6c85-499f-971f-6cd27bb6f4e2"
      },
      "source": [
        "#checking the outliers in the dependent variable\n",
        "plt.rcParams[\"figure.figsize\"] = plt.rcParamsDefault[\"figure.figsize\"]\n",
        "sns.boxplot(df['Price'],color='coral')"
      ],
      "execution_count": null,
      "outputs": [
        {
          "output_type": "execute_result",
          "data": {
            "text/plain": [
              "<matplotlib.axes._subplots.AxesSubplot at 0x7f2e50457510>"
            ]
          },
          "metadata": {
            "tags": []
          },
          "execution_count": 21
        },
        {
          "output_type": "display_data",
          "data": {
            "image/png": "[encoded data removed]",
            "text/plain": [
              "<Figure size 460.8x345.6 with 1 Axes>"
            ]
          },
          "metadata": {
            "tags": [],
            "needs_background": "light"
          }
        }
      ]
    },
    {
      "cell_type": "code",
      "metadata": {
        "id": "qYPaqcBd7kWC",
        "colab": {
          "base_uri": "https://localhost:8080/",
          "height": 502
        },
        "outputId": "29f0b6af-2558-4870-e9aa-65fb2acd1c2b"
      },
      "source": [
        "sns.heatmap(df.corr(), cbar=True, annot=True)\n",
        "df.corr()"
      ],
      "execution_count": null,
      "outputs": [
        {
          "output_type": "execute_result",
          "data": {
            "text/html": [
              "<div>\n",
              "<style scoped>\n",
              "    .dataframe tbody tr th:only-of-type {\n",
              "        vertical-align: middle;\n",
              "    }\n",
              "\n",
              "    .dataframe tbody tr th {\n",
              "        vertical-align: top;\n",
              "    }\n",
              "\n",
              "    .dataframe thead th {\n",
              "        text-align: right;\n",
              "    }\n",
              "</style>\n",
              "<table border=\"1\" class=\"dataframe\">\n",
              "  <thead>\n",
              "    <tr style=\"text-align: right;\">\n",
              "      <th></th>\n",
              "      <th>Price</th>\n",
              "      <th>Levy</th>\n",
              "      <th>Prod. year</th>\n",
              "      <th>Cylinders</th>\n",
              "      <th>Airbags</th>\n",
              "    </tr>\n",
              "  </thead>\n",
              "  <tbody>\n",
              "    <tr>\n",
              "      <th>Price</th>\n",
              "      <td>1.000000</td>\n",
              "      <td>-0.003701</td>\n",
              "      <td>0.012982</td>\n",
              "      <td>0.007518</td>\n",
              "      <td>-0.012824</td>\n",
              "    </tr>\n",
              "    <tr>\n",
              "      <th>Levy</th>\n",
              "      <td>-0.003701</td>\n",
              "      <td>1.000000</td>\n",
              "      <td>0.364712</td>\n",
              "      <td>0.250950</td>\n",
              "      <td>0.128032</td>\n",
              "    </tr>\n",
              "    <tr>\n",
              "      <th>Prod. year</th>\n",
              "      <td>0.012982</td>\n",
              "      <td>0.364712</td>\n",
              "      <td>1.000000</td>\n",
              "      <td>-0.096797</td>\n",
              "      <td>0.236969</td>\n",
              "    </tr>\n",
              "    <tr>\n",
              "      <th>Cylinders</th>\n",
              "      <td>0.007518</td>\n",
              "      <td>0.250950</td>\n",
              "      <td>-0.096797</td>\n",
              "      <td>1.000000</td>\n",
              "      <td>0.176868</td>\n",
              "    </tr>\n",
              "    <tr>\n",
              "      <th>Airbags</th>\n",
              "      <td>-0.012824</td>\n",
              "      <td>0.128032</td>\n",
              "      <td>0.236969</td>\n",
              "      <td>0.176868</td>\n",
              "      <td>1.000000</td>\n",
              "    </tr>\n",
              "  </tbody>\n",
              "</table>\n",
              "</div>"
            ],
            "text/plain": [
              "               Price      Levy  Prod. year  Cylinders   Airbags\n",
              "Price       1.000000 -0.003701    0.012982   0.007518 -0.012824\n",
              "Levy       -0.003701  1.000000    0.364712   0.250950  0.128032\n",
              "Prod. year  0.012982  0.364712    1.000000  -0.096797  0.236969\n",
              "Cylinders   0.007518  0.250950   -0.096797   1.000000  0.176868\n",
              "Airbags    -0.012824  0.128032    0.236969   0.176868  1.000000"
            ]
          },
          "metadata": {
            "tags": []
          },
          "execution_count": 22
        },
        {
          "output_type": "display_data",
          "data": {
            "image/png": "[encoded data removed]",
            "text/plain": [
              "<Figure size 460.8x345.6 with 2 Axes>"
            ]
          },
          "metadata": {
            "tags": [],
            "needs_background": "light"
          }
        }
      ]
    },
    {
      "cell_type": "markdown",
      "metadata": {
        "id": "b0Tvmxe37kWE"
      },
      "source": [
        "From the correlation matrix we can conclude tat Mileage is not correlated to any other field and even any of the other independednt features are not highly correlated to each other"
      ]
    },
    {
      "cell_type": "markdown",
      "metadata": {
        "id": "AJYtXe0E7kWF"
      },
      "source": [
        "<h3> Missing Data Treatment </h3>"
      ]
    },
    {
      "cell_type": "code",
      "metadata": {
        "id": "rw0t79xv7kWG",
        "colab": {
          "base_uri": "https://localhost:8080/",
          "height": 397
        },
        "outputId": "b937e27a-ddc0-488f-c1b2-74c5f6799a4a"
      },
      "source": [
        "sns.heatmap(df.isnull(), cbar=False)\n",
        "#from the below plot it is clear that there are no missing data in the dataset"
      ],
      "execution_count": null,
      "outputs": [
        {
          "output_type": "execute_result",
          "data": {
            "text/plain": [
              "<matplotlib.axes._subplots.AxesSubplot at 0x7f2e592fec10>"
            ]
          },
          "metadata": {
            "tags": []
          },
          "execution_count": 23
        },
        {
          "output_type": "display_data",
          "data": {
            "image/png": "[encoded data removed]",
            "text/plain": [
              "<Figure size 460.8x345.6 with 1 Axes>"
            ]
          },
          "metadata": {
            "tags": [],
            "needs_background": "light"
          }
        }
      ]
    },
    {
      "cell_type": "code",
      "metadata": {
        "colab": {
          "base_uri": "https://localhost:8080/",
          "height": 347
        },
        "id": "5P1nZYnH2FgV",
        "outputId": "8e9a3e42-4514-4505-c185-f77ca56216b7"
      },
      "source": [
        "combined_data.head()"
      ],
      "execution_count": null,
      "outputs": [
        {
          "output_type": "execute_result",
          "data": {
            "text/html": [
              "<div>\n",
              "<style scoped>\n",
              "    .dataframe tbody tr th:only-of-type {\n",
              "        vertical-align: middle;\n",
              "    }\n",
              "\n",
              "    .dataframe tbody tr th {\n",
              "        vertical-align: top;\n",
              "    }\n",
              "\n",
              "    .dataframe thead th {\n",
              "        text-align: right;\n",
              "    }\n",
              "</style>\n",
              "<table border=\"1\" class=\"dataframe\">\n",
              "  <thead>\n",
              "    <tr style=\"text-align: right;\">\n",
              "      <th></th>\n",
              "      <th>ID</th>\n",
              "      <th>Levy</th>\n",
              "      <th>Manufacturer</th>\n",
              "      <th>Model</th>\n",
              "      <th>Prod. year</th>\n",
              "      <th>Category</th>\n",
              "      <th>Leather interior</th>\n",
              "      <th>Fuel type</th>\n",
              "      <th>Engine volume</th>\n",
              "      <th>Mileage</th>\n",
              "      <th>Cylinders</th>\n",
              "      <th>Gear box type</th>\n",
              "      <th>Drive wheels</th>\n",
              "      <th>Doors</th>\n",
              "      <th>Wheel</th>\n",
              "      <th>Color</th>\n",
              "      <th>Airbags</th>\n",
              "    </tr>\n",
              "  </thead>\n",
              "  <tbody>\n",
              "    <tr>\n",
              "      <th>0</th>\n",
              "      <td>45654403</td>\n",
              "      <td>1399.0</td>\n",
              "      <td>LEXUS</td>\n",
              "      <td>RX 450</td>\n",
              "      <td>2010</td>\n",
              "      <td>Jeep</td>\n",
              "      <td>Yes</td>\n",
              "      <td>Hybrid</td>\n",
              "      <td>3.5</td>\n",
              "      <td>186005 km</td>\n",
              "      <td>6.0</td>\n",
              "      <td>Automatic</td>\n",
              "      <td>4x4</td>\n",
              "      <td>04-May</td>\n",
              "      <td>Left wheel</td>\n",
              "      <td>Silver</td>\n",
              "      <td>12</td>\n",
              "    </tr>\n",
              "    <tr>\n",
              "      <th>1</th>\n",
              "      <td>44731507</td>\n",
              "      <td>1018.0</td>\n",
              "      <td>CHEVROLET</td>\n",
              "      <td>Equinox</td>\n",
              "      <td>2011</td>\n",
              "      <td>Jeep</td>\n",
              "      <td>No</td>\n",
              "      <td>Petrol</td>\n",
              "      <td>3</td>\n",
              "      <td>192000 km</td>\n",
              "      <td>6.0</td>\n",
              "      <td>Tiptronic</td>\n",
              "      <td>4x4</td>\n",
              "      <td>04-May</td>\n",
              "      <td>Left wheel</td>\n",
              "      <td>Black</td>\n",
              "      <td>8</td>\n",
              "    </tr>\n",
              "    <tr>\n",
              "      <th>2</th>\n",
              "      <td>45774419</td>\n",
              "      <td>0.0</td>\n",
              "      <td>HONDA</td>\n",
              "      <td>FIT</td>\n",
              "      <td>2006</td>\n",
              "      <td>Hatchback</td>\n",
              "      <td>No</td>\n",
              "      <td>Petrol</td>\n",
              "      <td>1.3</td>\n",
              "      <td>200000 km</td>\n",
              "      <td>4.0</td>\n",
              "      <td>Variator</td>\n",
              "      <td>Front</td>\n",
              "      <td>04-May</td>\n",
              "      <td>Right-hand drive</td>\n",
              "      <td>Black</td>\n",
              "      <td>2</td>\n",
              "    </tr>\n",
              "    <tr>\n",
              "      <th>3</th>\n",
              "      <td>45769185</td>\n",
              "      <td>862.0</td>\n",
              "      <td>FORD</td>\n",
              "      <td>Escape</td>\n",
              "      <td>2011</td>\n",
              "      <td>Jeep</td>\n",
              "      <td>Yes</td>\n",
              "      <td>Hybrid</td>\n",
              "      <td>2.5</td>\n",
              "      <td>168966 km</td>\n",
              "      <td>4.0</td>\n",
              "      <td>Automatic</td>\n",
              "      <td>4x4</td>\n",
              "      <td>04-May</td>\n",
              "      <td>Left wheel</td>\n",
              "      <td>White</td>\n",
              "      <td>0</td>\n",
              "    </tr>\n",
              "    <tr>\n",
              "      <th>4</th>\n",
              "      <td>45809263</td>\n",
              "      <td>446.0</td>\n",
              "      <td>HONDA</td>\n",
              "      <td>FIT</td>\n",
              "      <td>2014</td>\n",
              "      <td>Hatchback</td>\n",
              "      <td>Yes</td>\n",
              "      <td>Petrol</td>\n",
              "      <td>1.3</td>\n",
              "      <td>91901 km</td>\n",
              "      <td>4.0</td>\n",
              "      <td>Automatic</td>\n",
              "      <td>Front</td>\n",
              "      <td>04-May</td>\n",
              "      <td>Left wheel</td>\n",
              "      <td>Silver</td>\n",
              "      <td>4</td>\n",
              "    </tr>\n",
              "  </tbody>\n",
              "</table>\n",
              "</div>"
            ],
            "text/plain": [
              "         ID    Levy Manufacturer    Model  Prod. year   Category  \\\n",
              "0  45654403  1399.0        LEXUS   RX 450        2010       Jeep   \n",
              "1  44731507  1018.0    CHEVROLET  Equinox        2011       Jeep   \n",
              "2  45774419     0.0        HONDA      FIT        2006  Hatchback   \n",
              "3  45769185   862.0         FORD   Escape        2011       Jeep   \n",
              "4  45809263   446.0        HONDA      FIT        2014  Hatchback   \n",
              "\n",
              "  Leather interior Fuel type Engine volume    Mileage  Cylinders  \\\n",
              "0              Yes    Hybrid           3.5  186005 km        6.0   \n",
              "1               No    Petrol             3  192000 km        6.0   \n",
              "2               No    Petrol           1.3  200000 km        4.0   \n",
              "3              Yes    Hybrid           2.5  168966 km        4.0   \n",
              "4              Yes    Petrol           1.3   91901 km        4.0   \n",
              "\n",
              "  Gear box type Drive wheels   Doors             Wheel   Color  Airbags  \n",
              "0     Automatic          4x4  04-May        Left wheel  Silver       12  \n",
              "1     Tiptronic          4x4  04-May        Left wheel   Black        8  \n",
              "2      Variator        Front  04-May  Right-hand drive   Black        2  \n",
              "3     Automatic          4x4  04-May        Left wheel   White        0  \n",
              "4     Automatic        Front  04-May        Left wheel  Silver        4  "
            ]
          },
          "metadata": {
            "tags": []
          },
          "execution_count": 24
        }
      ]
    },
    {
      "cell_type": "markdown",
      "metadata": {
        "id": "gVc5aUKd7kWH"
      },
      "source": [
        "<h3>Data Cleaning will be applied on combined_data</h3>"
      ]
    },
    {
      "cell_type": "code",
      "metadata": {
        "colab": {
          "base_uri": "https://localhost:8080/"
        },
        "id": "XeYNhs1_bYxq",
        "outputId": "2dbb8b9c-a9fe-4b69-c92c-a80611a79afd"
      },
      "source": [
        "combined_data.Manufacturer.unique()"
      ],
      "execution_count": null,
      "outputs": [
        {
          "output_type": "execute_result",
          "data": {
            "text/plain": [
              "array(['LEXUS', 'CHEVROLET', 'HONDA', 'FORD', 'HYUNDAI', 'TOYOTA',\n",
              "       'MERCEDES-BENZ', 'OPEL', 'PORSCHE', 'BMW', 'JEEP', 'VOLKSWAGEN',\n",
              "       'AUDI', 'RENAULT', 'NISSAN', 'SUBARU', 'DAEWOO', 'KIA',\n",
              "       'MITSUBISHI', 'SSANGYONG', 'MAZDA', 'GMC', 'FIAT', 'INFINITI',\n",
              "       'ALFA ROMEO', 'SUZUKI', 'ACURA', 'LINCOLN', 'VAZ', 'GAZ',\n",
              "       'CITROEN', 'LAND ROVER', 'MINI', 'DODGE', 'CHRYSLER', 'JAGUAR',\n",
              "       'ISUZU', 'SKODA', 'DAIHATSU', 'BUICK', 'TESLA', 'CADILLAC',\n",
              "       'PEUGEOT', 'BENTLEY', 'VOLVO', 'სხვა', 'HAVAL', 'HUMMER', 'SCION',\n",
              "       'UAZ', 'MERCURY', 'ZAZ', 'ROVER', 'SEAT', 'LANCIA', 'MOSKVICH',\n",
              "       'MASERATI', 'FERRARI', 'SAAB', 'LAMBORGHINI', 'ROLLS-ROYCE',\n",
              "       'PONTIAC', 'SATURN', 'ASTON MARTIN', 'GREATWALL', 'TATA', 'FOTON',\n",
              "       'MG'], dtype=object)"
            ]
          },
          "metadata": {
            "tags": []
          },
          "execution_count": 25
        }
      ]
    },
    {
      "cell_type": "code",
      "metadata": {
        "id": "eEk6oNOD7kWJ"
      },
      "source": [
        "#removing the 'km' from the mileage column and converting it to float\n",
        "df.Mileage = pd.to_numeric(df.Mileage.str.split(' ').str[0], downcast='float')\n",
        "combined_data.Mileage = pd.to_numeric(combined_data.Mileage.str.split(' ').str[0], downcast='float')\n"
      ],
      "execution_count": null,
      "outputs": []
    },
    {
      "cell_type": "code",
      "metadata": {
        "id": "zPkBOYdTSROc"
      },
      "source": [
        "df.Mileage = np.where(df.Mileage == 0.0,df.Mileage.mean(),df.Mileage)\n",
        "combined_data.Mileage = np.where(combined_data.Mileage == 0.0,combined_data.Mileage.mean(),combined_data.Mileage)"
      ],
      "execution_count": null,
      "outputs": []
    },
    {
      "cell_type": "code",
      "metadata": {
        "id": "VRS70zRE7kWK",
        "colab": {
          "base_uri": "https://localhost:8080/"
        },
        "outputId": "ff40baef-a94c-4b3a-87db-db5e231c1558"
      },
      "source": [
        "combined_data.Doors.unique()"
      ],
      "execution_count": null,
      "outputs": [
        {
          "output_type": "execute_result",
          "data": {
            "text/plain": [
              "array(['04-May', '02-Mar', '>5'], dtype=object)"
            ]
          },
          "metadata": {
            "tags": []
          },
          "execution_count": 28
        }
      ]
    },
    {
      "cell_type": "code",
      "metadata": {
        "id": "iPy5sau77kWL"
      },
      "source": [
        "#cleaning the Doors column\n",
        "combined_data.Doors = np.where((combined_data.Doors == '04-May') | (combined_data.Doors == '02-Mar'), combined_data.Doors.str.split('-').str[0],combined_data.Doors)\n"
      ],
      "execution_count": null,
      "outputs": []
    },
    {
      "cell_type": "code",
      "metadata": {
        "id": "uJbyGayK7kWM",
        "colab": {
          "base_uri": "https://localhost:8080/"
        },
        "outputId": "d5a98bc4-fe31-4e70-9107-7cec22420c8f"
      },
      "source": [
        "combined_data['Engine volume'].unique()"
      ],
      "execution_count": null,
      "outputs": [
        {
          "output_type": "execute_result",
          "data": {
            "text/plain": [
              "array(['3.5', '3', '1.3', '2.5', '2', '1.8', '2.4', '4', '1.6', '3.3',\n",
              "       '2.0 Turbo', '2.2 Turbo', '4.7', '1.5', '4.4', '3.0 Turbo',\n",
              "       '1.4 Turbo', '3.6', '2.3', '1.5 Turbo', '1.6 Turbo', '2.2',\n",
              "       '2.3 Turbo', '1.4', '5.5', '2.8 Turbo', '3.2', '3.8', '4.6', '1.2',\n",
              "       '5', '1.7', '2.9', '0.5', '1.8 Turbo', '2.4 Turbo', '3.5 Turbo',\n",
              "       '1.9', '2.7', '4.8', '5.3', '0.4', '2.8', '3.2 Turbo', '1.1',\n",
              "       '2.1', '0.7', '5.4', '1.3 Turbo', '3.7', '1', '2.5 Turbo', '2.6',\n",
              "       '1.9 Turbo', '4.4 Turbo', '4.7 Turbo', '0.8', '0.2 Turbo', '5.7',\n",
              "       '4.8 Turbo', '4.6 Turbo', '6.7', '6.2', '1.2 Turbo', '3.4',\n",
              "       '1.7 Turbo', '6.3 Turbo', '2.7 Turbo', '4.3', '4.2', '2.9 Turbo',\n",
              "       '0', '4.0 Turbo', '20', '3.6 Turbo', '0.3', '3.7 Turbo', '5.9',\n",
              "       '5.5 Turbo', '0.2', '2.1 Turbo', '5.6', '6', '0.7 Turbo',\n",
              "       '0.6 Turbo', '6.8', '4.5', '0.6', '7.3', '0.1', '1.0 Turbo', '6.3',\n",
              "       '4.5 Turbo', '0.8 Turbo', '4.2 Turbo', '3.1', '5.0 Turbo', '6.4',\n",
              "       '3.9', '5.7 Turbo', '0.9', '0.4 Turbo', '5.4 Turbo', '0.3 Turbo',\n",
              "       '5.2', '5.8', '1.1 Turbo', '6.6', '6.1', '10.8', '6.0 Turbo',\n",
              "       '2.6 Turbo'], dtype=object)"
            ]
          },
          "metadata": {
            "tags": []
          },
          "execution_count": 30
        }
      ]
    },
    {
      "cell_type": "code",
      "metadata": {
        "id": "e8KaV_3i7kWN"
      },
      "source": [
        "combined_data['Engine volume'] = pd.to_numeric(combined_data['Engine volume'].str.split(' ').str[0], downcast='float')"
      ],
      "execution_count": null,
      "outputs": []
    },
    {
      "cell_type": "code",
      "metadata": {
        "id": "3lF83pfLS2ZB",
        "colab": {
          "base_uri": "https://localhost:8080/",
          "height": 817
        },
        "outputId": "b8939c27-b423-469a-d5d7-3194e4959308"
      },
      "source": [
        "#for the records where engine volumn is 0 we'll be updating the actual engine volume of that car\n",
        "combined_data[combined_data['Engine volume'] == 0.0]\n",
        "#combined_data['Engine volume'] = np.where(combined_data['Engine volume'] == 0.0,combined_data['Engine volume'].mean(),combined_data['Engine volume'])"
      ],
      "execution_count": null,
      "outputs": [
        {
          "output_type": "execute_result",
          "data": {
            "text/html": [
              "<div>\n",
              "<style scoped>\n",
              "    .dataframe tbody tr th:only-of-type {\n",
              "        vertical-align: middle;\n",
              "    }\n",
              "\n",
              "    .dataframe tbody tr th {\n",
              "        vertical-align: top;\n",
              "    }\n",
              "\n",
              "    .dataframe thead th {\n",
              "        text-align: right;\n",
              "    }\n",
              "</style>\n",
              "<table border=\"1\" class=\"dataframe\">\n",
              "  <thead>\n",
              "    <tr style=\"text-align: right;\">\n",
              "      <th></th>\n",
              "      <th>ID</th>\n",
              "      <th>Levy</th>\n",
              "      <th>Manufacturer</th>\n",
              "      <th>Model</th>\n",
              "      <th>Prod. year</th>\n",
              "      <th>Category</th>\n",
              "      <th>Leather interior</th>\n",
              "      <th>Fuel type</th>\n",
              "      <th>Engine volume</th>\n",
              "      <th>Mileage</th>\n",
              "      <th>Cylinders</th>\n",
              "      <th>Gear box type</th>\n",
              "      <th>Drive wheels</th>\n",
              "      <th>Doors</th>\n",
              "      <th>Wheel</th>\n",
              "      <th>Color</th>\n",
              "      <th>Airbags</th>\n",
              "    </tr>\n",
              "  </thead>\n",
              "  <tbody>\n",
              "    <tr>\n",
              "      <th>2010</th>\n",
              "      <td>45751914</td>\n",
              "      <td>87.0</td>\n",
              "      <td>TESLA</td>\n",
              "      <td>Model X</td>\n",
              "      <td>2018</td>\n",
              "      <td>Sedan</td>\n",
              "      <td>Yes</td>\n",
              "      <td>Petrol</td>\n",
              "      <td>0.0</td>\n",
              "      <td>81907.000</td>\n",
              "      <td>6.0</td>\n",
              "      <td>Automatic</td>\n",
              "      <td>4x4</td>\n",
              "      <td>04</td>\n",
              "      <td>Left wheel</td>\n",
              "      <td>Silver</td>\n",
              "      <td>12</td>\n",
              "    </tr>\n",
              "    <tr>\n",
              "      <th>3105</th>\n",
              "      <td>45814922</td>\n",
              "      <td>87.0</td>\n",
              "      <td>MERCEDES-BENZ</td>\n",
              "      <td>C 250</td>\n",
              "      <td>2013</td>\n",
              "      <td>Coupe</td>\n",
              "      <td>Yes</td>\n",
              "      <td>Petrol</td>\n",
              "      <td>0.0</td>\n",
              "      <td>121600.000</td>\n",
              "      <td>4.0</td>\n",
              "      <td>Automatic</td>\n",
              "      <td>Rear</td>\n",
              "      <td>04</td>\n",
              "      <td>Left wheel</td>\n",
              "      <td>White</td>\n",
              "      <td>12</td>\n",
              "    </tr>\n",
              "    <tr>\n",
              "      <th>3516</th>\n",
              "      <td>45729814</td>\n",
              "      <td>87.0</td>\n",
              "      <td>HYUNDAI</td>\n",
              "      <td>Elantra</td>\n",
              "      <td>2016</td>\n",
              "      <td>Sedan</td>\n",
              "      <td>Yes</td>\n",
              "      <td>LPG</td>\n",
              "      <td>0.0</td>\n",
              "      <td>65004.000</td>\n",
              "      <td>4.0</td>\n",
              "      <td>Automatic</td>\n",
              "      <td>Front</td>\n",
              "      <td>04</td>\n",
              "      <td>Left wheel</td>\n",
              "      <td>White</td>\n",
              "      <td>4</td>\n",
              "    </tr>\n",
              "    <tr>\n",
              "      <th>4814</th>\n",
              "      <td>45809261</td>\n",
              "      <td>87.0</td>\n",
              "      <td>TOYOTA</td>\n",
              "      <td>Aqua</td>\n",
              "      <td>2012</td>\n",
              "      <td>Hatchback</td>\n",
              "      <td>Yes</td>\n",
              "      <td>Petrol</td>\n",
              "      <td>0.0</td>\n",
              "      <td>118000.000</td>\n",
              "      <td>4.0</td>\n",
              "      <td>Automatic</td>\n",
              "      <td>Front</td>\n",
              "      <td>04</td>\n",
              "      <td>Left wheel</td>\n",
              "      <td>Grey</td>\n",
              "      <td>4</td>\n",
              "    </tr>\n",
              "    <tr>\n",
              "      <th>7022</th>\n",
              "      <td>45809887</td>\n",
              "      <td>87.0</td>\n",
              "      <td>TOYOTA</td>\n",
              "      <td>Aqua</td>\n",
              "      <td>2012</td>\n",
              "      <td>Hatchback</td>\n",
              "      <td>Yes</td>\n",
              "      <td>Petrol</td>\n",
              "      <td>0.0</td>\n",
              "      <td>118000.000</td>\n",
              "      <td>4.0</td>\n",
              "      <td>Automatic</td>\n",
              "      <td>Front</td>\n",
              "      <td>04</td>\n",
              "      <td>Left wheel</td>\n",
              "      <td>Grey</td>\n",
              "      <td>4</td>\n",
              "    </tr>\n",
              "    <tr>\n",
              "      <th>7685</th>\n",
              "      <td>45729847</td>\n",
              "      <td>87.0</td>\n",
              "      <td>SSANGYONG</td>\n",
              "      <td>REXTON</td>\n",
              "      <td>2016</td>\n",
              "      <td>Jeep</td>\n",
              "      <td>Yes</td>\n",
              "      <td>Diesel</td>\n",
              "      <td>0.0</td>\n",
              "      <td>73968.000</td>\n",
              "      <td>4.0</td>\n",
              "      <td>Automatic</td>\n",
              "      <td>Front</td>\n",
              "      <td>04</td>\n",
              "      <td>Left wheel</td>\n",
              "      <td>Black</td>\n",
              "      <td>4</td>\n",
              "    </tr>\n",
              "    <tr>\n",
              "      <th>10603</th>\n",
              "      <td>45757531</td>\n",
              "      <td>87.0</td>\n",
              "      <td>TOYOTA</td>\n",
              "      <td>Prius</td>\n",
              "      <td>2010</td>\n",
              "      <td>Hatchback</td>\n",
              "      <td>No</td>\n",
              "      <td>Hybrid</td>\n",
              "      <td>0.0</td>\n",
              "      <td>1468032.625</td>\n",
              "      <td>4.0</td>\n",
              "      <td>Automatic</td>\n",
              "      <td>Front</td>\n",
              "      <td>04</td>\n",
              "      <td>Left wheel</td>\n",
              "      <td>Golden</td>\n",
              "      <td>0</td>\n",
              "    </tr>\n",
              "    <tr>\n",
              "      <th>12917</th>\n",
              "      <td>45814948</td>\n",
              "      <td>87.0</td>\n",
              "      <td>MERCEDES-BENZ</td>\n",
              "      <td>E 350</td>\n",
              "      <td>2016</td>\n",
              "      <td>Sedan</td>\n",
              "      <td>Yes</td>\n",
              "      <td>Petrol</td>\n",
              "      <td>0.0</td>\n",
              "      <td>33600.000</td>\n",
              "      <td>6.0</td>\n",
              "      <td>Automatic</td>\n",
              "      <td>Rear</td>\n",
              "      <td>04</td>\n",
              "      <td>Left wheel</td>\n",
              "      <td>White</td>\n",
              "      <td>12</td>\n",
              "    </tr>\n",
              "    <tr>\n",
              "      <th>14642</th>\n",
              "      <td>45816369</td>\n",
              "      <td>87.0</td>\n",
              "      <td>PORSCHE</td>\n",
              "      <td>Panamera</td>\n",
              "      <td>2011</td>\n",
              "      <td>Sedan</td>\n",
              "      <td>Yes</td>\n",
              "      <td>Petrol</td>\n",
              "      <td>0.0</td>\n",
              "      <td>196800.000</td>\n",
              "      <td>6.0</td>\n",
              "      <td>Automatic</td>\n",
              "      <td>Rear</td>\n",
              "      <td>04</td>\n",
              "      <td>Left wheel</td>\n",
              "      <td>Black</td>\n",
              "      <td>12</td>\n",
              "    </tr>\n",
              "    <tr>\n",
              "      <th>17375</th>\n",
              "      <td>45814941</td>\n",
              "      <td>87.0</td>\n",
              "      <td>MERCEDES-BENZ</td>\n",
              "      <td>CLS 550</td>\n",
              "      <td>2014</td>\n",
              "      <td>Sedan</td>\n",
              "      <td>Yes</td>\n",
              "      <td>Petrol</td>\n",
              "      <td>0.0</td>\n",
              "      <td>92800.000</td>\n",
              "      <td>8.0</td>\n",
              "      <td>Automatic</td>\n",
              "      <td>Rear</td>\n",
              "      <td>04</td>\n",
              "      <td>Left wheel</td>\n",
              "      <td>Black</td>\n",
              "      <td>12</td>\n",
              "    </tr>\n",
              "    <tr>\n",
              "      <th>20687</th>\n",
              "      <td>45792392</td>\n",
              "      <td>87.0</td>\n",
              "      <td>TESLA</td>\n",
              "      <td>Model X</td>\n",
              "      <td>2018</td>\n",
              "      <td>Sedan</td>\n",
              "      <td>Yes</td>\n",
              "      <td>Petrol</td>\n",
              "      <td>0.0</td>\n",
              "      <td>81907.000</td>\n",
              "      <td>6.0</td>\n",
              "      <td>Automatic</td>\n",
              "      <td>4x4</td>\n",
              "      <td>04</td>\n",
              "      <td>Left wheel</td>\n",
              "      <td>Silver</td>\n",
              "      <td>12</td>\n",
              "    </tr>\n",
              "    <tr>\n",
              "      <th>21748</th>\n",
              "      <td>45814942</td>\n",
              "      <td>87.0</td>\n",
              "      <td>BMW</td>\n",
              "      <td>328</td>\n",
              "      <td>2015</td>\n",
              "      <td>Sedan</td>\n",
              "      <td>Yes</td>\n",
              "      <td>Petrol</td>\n",
              "      <td>0.0</td>\n",
              "      <td>131200.000</td>\n",
              "      <td>4.0</td>\n",
              "      <td>Automatic</td>\n",
              "      <td>Rear</td>\n",
              "      <td>04</td>\n",
              "      <td>Left wheel</td>\n",
              "      <td>White</td>\n",
              "      <td>12</td>\n",
              "    </tr>\n",
              "    <tr>\n",
              "      <th>22798</th>\n",
              "      <td>45770833</td>\n",
              "      <td>87.0</td>\n",
              "      <td>TOYOTA</td>\n",
              "      <td>Prius</td>\n",
              "      <td>2012</td>\n",
              "      <td>Hatchback</td>\n",
              "      <td>No</td>\n",
              "      <td>Hybrid</td>\n",
              "      <td>0.0</td>\n",
              "      <td>147200.000</td>\n",
              "      <td>4.0</td>\n",
              "      <td>Automatic</td>\n",
              "      <td>Front</td>\n",
              "      <td>04</td>\n",
              "      <td>Left wheel</td>\n",
              "      <td>Black</td>\n",
              "      <td>0</td>\n",
              "    </tr>\n",
              "    <tr>\n",
              "      <th>25931</th>\n",
              "      <td>45773639</td>\n",
              "      <td>87.0</td>\n",
              "      <td>VOLKSWAGEN</td>\n",
              "      <td>Jetta</td>\n",
              "      <td>2015</td>\n",
              "      <td>Sedan</td>\n",
              "      <td>Yes</td>\n",
              "      <td>Petrol</td>\n",
              "      <td>0.0</td>\n",
              "      <td>80000.000</td>\n",
              "      <td>4.0</td>\n",
              "      <td>Automatic</td>\n",
              "      <td>Front</td>\n",
              "      <td>04</td>\n",
              "      <td>Left wheel</td>\n",
              "      <td>Silver</td>\n",
              "      <td>0</td>\n",
              "    </tr>\n",
              "    <tr>\n",
              "      <th>26245</th>\n",
              "      <td>45814944</td>\n",
              "      <td>87.0</td>\n",
              "      <td>MERCEDES-BENZ</td>\n",
              "      <td>CLA 250</td>\n",
              "      <td>2019</td>\n",
              "      <td>Hatchback</td>\n",
              "      <td>Yes</td>\n",
              "      <td>Petrol</td>\n",
              "      <td>0.0</td>\n",
              "      <td>10.000</td>\n",
              "      <td>4.0</td>\n",
              "      <td>Automatic</td>\n",
              "      <td>Front</td>\n",
              "      <td>04</td>\n",
              "      <td>Left wheel</td>\n",
              "      <td>Grey</td>\n",
              "      <td>12</td>\n",
              "    </tr>\n",
              "  </tbody>\n",
              "</table>\n",
              "</div>"
            ],
            "text/plain": [
              "             ID  Levy   Manufacturer     Model  Prod. year   Category  \\\n",
              "2010   45751914  87.0          TESLA   Model X        2018      Sedan   \n",
              "3105   45814922  87.0  MERCEDES-BENZ     C 250        2013      Coupe   \n",
              "3516   45729814  87.0        HYUNDAI   Elantra        2016      Sedan   \n",
              "4814   45809261  87.0         TOYOTA      Aqua        2012  Hatchback   \n",
              "7022   45809887  87.0         TOYOTA      Aqua        2012  Hatchback   \n",
              "7685   45729847  87.0      SSANGYONG    REXTON        2016       Jeep   \n",
              "10603  45757531  87.0         TOYOTA     Prius        2010  Hatchback   \n",
              "12917  45814948  87.0  MERCEDES-BENZ     E 350        2016      Sedan   \n",
              "14642  45816369  87.0        PORSCHE  Panamera        2011      Sedan   \n",
              "17375  45814941  87.0  MERCEDES-BENZ   CLS 550        2014      Sedan   \n",
              "20687  45792392  87.0          TESLA   Model X        2018      Sedan   \n",
              "21748  45814942  87.0            BMW       328        2015      Sedan   \n",
              "22798  45770833  87.0         TOYOTA     Prius        2012  Hatchback   \n",
              "25931  45773639  87.0     VOLKSWAGEN     Jetta        2015      Sedan   \n",
              "26245  45814944  87.0  MERCEDES-BENZ   CLA 250        2019  Hatchback   \n",
              "\n",
              "      Leather interior Fuel type  Engine volume      Mileage  Cylinders  \\\n",
              "2010               Yes    Petrol            0.0    81907.000        6.0   \n",
              "3105               Yes    Petrol            0.0   121600.000        4.0   \n",
              "3516               Yes       LPG            0.0    65004.000        4.0   \n",
              "4814               Yes    Petrol            0.0   118000.000        4.0   \n",
              "7022               Yes    Petrol            0.0   118000.000        4.0   \n",
              "7685               Yes    Diesel            0.0    73968.000        4.0   \n",
              "10603               No    Hybrid            0.0  1468032.625        4.0   \n",
              "12917              Yes    Petrol            0.0    33600.000        6.0   \n",
              "14642              Yes    Petrol            0.0   196800.000        6.0   \n",
              "17375              Yes    Petrol            0.0    92800.000        8.0   \n",
              "20687              Yes    Petrol            0.0    81907.000        6.0   \n",
              "21748              Yes    Petrol            0.0   131200.000        4.0   \n",
              "22798               No    Hybrid            0.0   147200.000        4.0   \n",
              "25931              Yes    Petrol            0.0    80000.000        4.0   \n",
              "26245              Yes    Petrol            0.0       10.000        4.0   \n",
              "\n",
              "      Gear box type Drive wheels Doors       Wheel   Color  Airbags  \n",
              "2010      Automatic          4x4    04  Left wheel  Silver       12  \n",
              "3105      Automatic         Rear    04  Left wheel   White       12  \n",
              "3516      Automatic        Front    04  Left wheel   White        4  \n",
              "4814      Automatic        Front    04  Left wheel    Grey        4  \n",
              "7022      Automatic        Front    04  Left wheel    Grey        4  \n",
              "7685      Automatic        Front    04  Left wheel   Black        4  \n",
              "10603     Automatic        Front    04  Left wheel  Golden        0  \n",
              "12917     Automatic         Rear    04  Left wheel   White       12  \n",
              "14642     Automatic         Rear    04  Left wheel   Black       12  \n",
              "17375     Automatic         Rear    04  Left wheel   Black       12  \n",
              "20687     Automatic          4x4    04  Left wheel  Silver       12  \n",
              "21748     Automatic         Rear    04  Left wheel   White       12  \n",
              "22798     Automatic        Front    04  Left wheel   Black        0  \n",
              "25931     Automatic        Front    04  Left wheel  Silver        0  \n",
              "26245     Automatic        Front    04  Left wheel    Grey       12  "
            ]
          },
          "metadata": {
            "tags": []
          },
          "execution_count": 32
        }
      ]
    },
    {
      "cell_type": "code",
      "metadata": {
        "id": "LJ0rbBrUsOA1"
      },
      "source": [
        "#for the records where engine volumn is 0 we'll be updating the actual engine volume of that car\n",
        "combined_data['Engine volume'][3105] = 1.8\n",
        "combined_data['Engine volume'][3516] = 1.6\n",
        "combined_data['Engine volume'][4814]= 1.5\n",
        "combined_data['Engine volume'][7022]=1.5\n",
        "combined_data['Engine volume'][7685]= 2.2\n",
        "combined_data['Engine volume'][10603]=1.8\n",
        "combined_data['Engine volume'][12917]=3.5\n",
        "combined_data['Engine volume'][14642]=3.6\n",
        "combined_data['Engine volume'][17375]=4.7\n",
        "combined_data['Engine volume'][21748]= 2.0\n",
        "combined_data['Engine volume'][22798]=1.5\n",
        "combined_data['Engine volume'][25931]=1.8\n",
        "combined_data['Engine volume'][26245]= 2"
      ],
      "execution_count": null,
      "outputs": []
    },
    {
      "cell_type": "code",
      "metadata": {
        "colab": {
          "base_uri": "https://localhost:8080/",
          "height": 184
        },
        "id": "zyyRlTd7sOEl",
        "outputId": "75944332-110a-42b3-e8e1-2ba343a6e7b9"
      },
      "source": [
        "combined_data[combined_data['Engine volume'] == 0.0]\n",
        "#tesla cars have no engine volumn hence they are 0"
      ],
      "execution_count": null,
      "outputs": [
        {
          "output_type": "execute_result",
          "data": {
            "text/html": [
              "<div>\n",
              "<style scoped>\n",
              "    .dataframe tbody tr th:only-of-type {\n",
              "        vertical-align: middle;\n",
              "    }\n",
              "\n",
              "    .dataframe tbody tr th {\n",
              "        vertical-align: top;\n",
              "    }\n",
              "\n",
              "    .dataframe thead th {\n",
              "        text-align: right;\n",
              "    }\n",
              "</style>\n",
              "<table border=\"1\" class=\"dataframe\">\n",
              "  <thead>\n",
              "    <tr style=\"text-align: right;\">\n",
              "      <th></th>\n",
              "      <th>ID</th>\n",
              "      <th>Levy</th>\n",
              "      <th>Manufacturer</th>\n",
              "      <th>Model</th>\n",
              "      <th>Prod. year</th>\n",
              "      <th>Category</th>\n",
              "      <th>Leather interior</th>\n",
              "      <th>Fuel type</th>\n",
              "      <th>Engine volume</th>\n",
              "      <th>Mileage</th>\n",
              "      <th>Cylinders</th>\n",
              "      <th>Gear box type</th>\n",
              "      <th>Drive wheels</th>\n",
              "      <th>Doors</th>\n",
              "      <th>Wheel</th>\n",
              "      <th>Color</th>\n",
              "      <th>Airbags</th>\n",
              "    </tr>\n",
              "  </thead>\n",
              "  <tbody>\n",
              "    <tr>\n",
              "      <th>2010</th>\n",
              "      <td>45751914</td>\n",
              "      <td>87.0</td>\n",
              "      <td>TESLA</td>\n",
              "      <td>Model X</td>\n",
              "      <td>2018</td>\n",
              "      <td>Sedan</td>\n",
              "      <td>Yes</td>\n",
              "      <td>Petrol</td>\n",
              "      <td>0.0</td>\n",
              "      <td>81907.0</td>\n",
              "      <td>6.0</td>\n",
              "      <td>Automatic</td>\n",
              "      <td>4x4</td>\n",
              "      <td>04</td>\n",
              "      <td>Left wheel</td>\n",
              "      <td>Silver</td>\n",
              "      <td>12</td>\n",
              "    </tr>\n",
              "    <tr>\n",
              "      <th>20687</th>\n",
              "      <td>45792392</td>\n",
              "      <td>87.0</td>\n",
              "      <td>TESLA</td>\n",
              "      <td>Model X</td>\n",
              "      <td>2018</td>\n",
              "      <td>Sedan</td>\n",
              "      <td>Yes</td>\n",
              "      <td>Petrol</td>\n",
              "      <td>0.0</td>\n",
              "      <td>81907.0</td>\n",
              "      <td>6.0</td>\n",
              "      <td>Automatic</td>\n",
              "      <td>4x4</td>\n",
              "      <td>04</td>\n",
              "      <td>Left wheel</td>\n",
              "      <td>Silver</td>\n",
              "      <td>12</td>\n",
              "    </tr>\n",
              "  </tbody>\n",
              "</table>\n",
              "</div>"
            ],
            "text/plain": [
              "             ID  Levy Manufacturer    Model  Prod. year Category  \\\n",
              "2010   45751914  87.0        TESLA  Model X        2018    Sedan   \n",
              "20687  45792392  87.0        TESLA  Model X        2018    Sedan   \n",
              "\n",
              "      Leather interior Fuel type  Engine volume  Mileage  Cylinders  \\\n",
              "2010               Yes    Petrol            0.0  81907.0        6.0   \n",
              "20687              Yes    Petrol            0.0  81907.0        6.0   \n",
              "\n",
              "      Gear box type Drive wheels Doors       Wheel   Color  Airbags  \n",
              "2010      Automatic          4x4    04  Left wheel  Silver       12  \n",
              "20687     Automatic          4x4    04  Left wheel  Silver       12  "
            ]
          },
          "metadata": {
            "tags": []
          },
          "execution_count": 34
        }
      ]
    },
    {
      "cell_type": "code",
      "metadata": {
        "id": "32-S55q57kWO",
        "colab": {
          "base_uri": "https://localhost:8080/",
          "height": 651
        },
        "outputId": "38f5704f-a589-43f6-9940-de393405b8f7"
      },
      "source": [
        "combined_data"
      ],
      "execution_count": null,
      "outputs": [
        {
          "output_type": "execute_result",
          "data": {
            "text/html": [
              "<div>\n",
              "<style scoped>\n",
              "    .dataframe tbody tr th:only-of-type {\n",
              "        vertical-align: middle;\n",
              "    }\n",
              "\n",
              "    .dataframe tbody tr th {\n",
              "        vertical-align: top;\n",
              "    }\n",
              "\n",
              "    .dataframe thead th {\n",
              "        text-align: right;\n",
              "    }\n",
              "</style>\n",
              "<table border=\"1\" class=\"dataframe\">\n",
              "  <thead>\n",
              "    <tr style=\"text-align: right;\">\n",
              "      <th></th>\n",
              "      <th>ID</th>\n",
              "      <th>Levy</th>\n",
              "      <th>Manufacturer</th>\n",
              "      <th>Model</th>\n",
              "      <th>Prod. year</th>\n",
              "      <th>Category</th>\n",
              "      <th>Leather interior</th>\n",
              "      <th>Fuel type</th>\n",
              "      <th>Engine volume</th>\n",
              "      <th>Mileage</th>\n",
              "      <th>Cylinders</th>\n",
              "      <th>Gear box type</th>\n",
              "      <th>Drive wheels</th>\n",
              "      <th>Doors</th>\n",
              "      <th>Wheel</th>\n",
              "      <th>Color</th>\n",
              "      <th>Airbags</th>\n",
              "    </tr>\n",
              "  </thead>\n",
              "  <tbody>\n",
              "    <tr>\n",
              "      <th>0</th>\n",
              "      <td>45654403</td>\n",
              "      <td>1399.0</td>\n",
              "      <td>LEXUS</td>\n",
              "      <td>RX 450</td>\n",
              "      <td>2010</td>\n",
              "      <td>Jeep</td>\n",
              "      <td>Yes</td>\n",
              "      <td>Hybrid</td>\n",
              "      <td>3.5</td>\n",
              "      <td>186005.0</td>\n",
              "      <td>6.0</td>\n",
              "      <td>Automatic</td>\n",
              "      <td>4x4</td>\n",
              "      <td>04</td>\n",
              "      <td>Left wheel</td>\n",
              "      <td>Silver</td>\n",
              "      <td>12</td>\n",
              "    </tr>\n",
              "    <tr>\n",
              "      <th>1</th>\n",
              "      <td>44731507</td>\n",
              "      <td>1018.0</td>\n",
              "      <td>CHEVROLET</td>\n",
              "      <td>Equinox</td>\n",
              "      <td>2011</td>\n",
              "      <td>Jeep</td>\n",
              "      <td>No</td>\n",
              "      <td>Petrol</td>\n",
              "      <td>3.0</td>\n",
              "      <td>192000.0</td>\n",
              "      <td>6.0</td>\n",
              "      <td>Tiptronic</td>\n",
              "      <td>4x4</td>\n",
              "      <td>04</td>\n",
              "      <td>Left wheel</td>\n",
              "      <td>Black</td>\n",
              "      <td>8</td>\n",
              "    </tr>\n",
              "    <tr>\n",
              "      <th>2</th>\n",
              "      <td>45774419</td>\n",
              "      <td>0.0</td>\n",
              "      <td>HONDA</td>\n",
              "      <td>FIT</td>\n",
              "      <td>2006</td>\n",
              "      <td>Hatchback</td>\n",
              "      <td>No</td>\n",
              "      <td>Petrol</td>\n",
              "      <td>1.3</td>\n",
              "      <td>200000.0</td>\n",
              "      <td>4.0</td>\n",
              "      <td>Variator</td>\n",
              "      <td>Front</td>\n",
              "      <td>04</td>\n",
              "      <td>Right-hand drive</td>\n",
              "      <td>Black</td>\n",
              "      <td>2</td>\n",
              "    </tr>\n",
              "    <tr>\n",
              "      <th>3</th>\n",
              "      <td>45769185</td>\n",
              "      <td>862.0</td>\n",
              "      <td>FORD</td>\n",
              "      <td>Escape</td>\n",
              "      <td>2011</td>\n",
              "      <td>Jeep</td>\n",
              "      <td>Yes</td>\n",
              "      <td>Hybrid</td>\n",
              "      <td>2.5</td>\n",
              "      <td>168966.0</td>\n",
              "      <td>4.0</td>\n",
              "      <td>Automatic</td>\n",
              "      <td>4x4</td>\n",
              "      <td>04</td>\n",
              "      <td>Left wheel</td>\n",
              "      <td>White</td>\n",
              "      <td>0</td>\n",
              "    </tr>\n",
              "    <tr>\n",
              "      <th>4</th>\n",
              "      <td>45809263</td>\n",
              "      <td>446.0</td>\n",
              "      <td>HONDA</td>\n",
              "      <td>FIT</td>\n",
              "      <td>2014</td>\n",
              "      <td>Hatchback</td>\n",
              "      <td>Yes</td>\n",
              "      <td>Petrol</td>\n",
              "      <td>1.3</td>\n",
              "      <td>91901.0</td>\n",
              "      <td>4.0</td>\n",
              "      <td>Automatic</td>\n",
              "      <td>Front</td>\n",
              "      <td>04</td>\n",
              "      <td>Left wheel</td>\n",
              "      <td>Silver</td>\n",
              "      <td>4</td>\n",
              "    </tr>\n",
              "    <tr>\n",
              "      <th>...</th>\n",
              "      <td>...</td>\n",
              "      <td>...</td>\n",
              "      <td>...</td>\n",
              "      <td>...</td>\n",
              "      <td>...</td>\n",
              "      <td>...</td>\n",
              "      <td>...</td>\n",
              "      <td>...</td>\n",
              "      <td>...</td>\n",
              "      <td>...</td>\n",
              "      <td>...</td>\n",
              "      <td>...</td>\n",
              "      <td>...</td>\n",
              "      <td>...</td>\n",
              "      <td>...</td>\n",
              "      <td>...</td>\n",
              "      <td>...</td>\n",
              "    </tr>\n",
              "    <tr>\n",
              "      <th>27477</th>\n",
              "      <td>44824410</td>\n",
              "      <td>1357.0</td>\n",
              "      <td>FIAT</td>\n",
              "      <td>Stilo</td>\n",
              "      <td>2004</td>\n",
              "      <td>Universal</td>\n",
              "      <td>No</td>\n",
              "      <td>Petrol</td>\n",
              "      <td>1.6</td>\n",
              "      <td>164000.0</td>\n",
              "      <td>4.0</td>\n",
              "      <td>Manual</td>\n",
              "      <td>Front</td>\n",
              "      <td>04</td>\n",
              "      <td>Left wheel</td>\n",
              "      <td>Blue</td>\n",
              "      <td>6</td>\n",
              "    </tr>\n",
              "    <tr>\n",
              "      <th>27478</th>\n",
              "      <td>45682346</td>\n",
              "      <td>0.0</td>\n",
              "      <td>BMW</td>\n",
              "      <td>528 F10</td>\n",
              "      <td>2012</td>\n",
              "      <td>Sedan</td>\n",
              "      <td>Yes</td>\n",
              "      <td>Petrol</td>\n",
              "      <td>2.8</td>\n",
              "      <td>156000.0</td>\n",
              "      <td>4.0</td>\n",
              "      <td>Tiptronic</td>\n",
              "      <td>Front</td>\n",
              "      <td>04</td>\n",
              "      <td>Left wheel</td>\n",
              "      <td>Black</td>\n",
              "      <td>6</td>\n",
              "    </tr>\n",
              "    <tr>\n",
              "      <th>27479</th>\n",
              "      <td>45649860</td>\n",
              "      <td>1646.0</td>\n",
              "      <td>LEXUS</td>\n",
              "      <td>GX 460</td>\n",
              "      <td>2015</td>\n",
              "      <td>Jeep</td>\n",
              "      <td>Yes</td>\n",
              "      <td>Petrol</td>\n",
              "      <td>4.6</td>\n",
              "      <td>102907.0</td>\n",
              "      <td>8.0</td>\n",
              "      <td>Automatic</td>\n",
              "      <td>4x4</td>\n",
              "      <td>04</td>\n",
              "      <td>Left wheel</td>\n",
              "      <td>Black</td>\n",
              "      <td>0</td>\n",
              "    </tr>\n",
              "    <tr>\n",
              "      <th>27480</th>\n",
              "      <td>45809706</td>\n",
              "      <td>784.0</td>\n",
              "      <td>TOYOTA</td>\n",
              "      <td>Aqua</td>\n",
              "      <td>2017</td>\n",
              "      <td>Hatchback</td>\n",
              "      <td>Yes</td>\n",
              "      <td>Petrol</td>\n",
              "      <td>1.5</td>\n",
              "      <td>3000.0</td>\n",
              "      <td>4.0</td>\n",
              "      <td>Automatic</td>\n",
              "      <td>Front</td>\n",
              "      <td>04</td>\n",
              "      <td>Left wheel</td>\n",
              "      <td>Green</td>\n",
              "      <td>4</td>\n",
              "    </tr>\n",
              "    <tr>\n",
              "      <th>27481</th>\n",
              "      <td>45813163</td>\n",
              "      <td>448.0</td>\n",
              "      <td>HONDA</td>\n",
              "      <td>Insight</td>\n",
              "      <td>2012</td>\n",
              "      <td>Hatchback</td>\n",
              "      <td>Yes</td>\n",
              "      <td>Hybrid</td>\n",
              "      <td>1.3</td>\n",
              "      <td>321269.0</td>\n",
              "      <td>4.0</td>\n",
              "      <td>Automatic</td>\n",
              "      <td>Front</td>\n",
              "      <td>04</td>\n",
              "      <td>Left wheel</td>\n",
              "      <td>Red</td>\n",
              "      <td>12</td>\n",
              "    </tr>\n",
              "  </tbody>\n",
              "</table>\n",
              "<p>27482 rows × 17 columns</p>\n",
              "</div>"
            ],
            "text/plain": [
              "             ID    Levy Manufacturer    Model  Prod. year   Category  \\\n",
              "0      45654403  1399.0        LEXUS   RX 450        2010       Jeep   \n",
              "1      44731507  1018.0    CHEVROLET  Equinox        2011       Jeep   \n",
              "2      45774419     0.0        HONDA      FIT        2006  Hatchback   \n",
              "3      45769185   862.0         FORD   Escape        2011       Jeep   \n",
              "4      45809263   446.0        HONDA      FIT        2014  Hatchback   \n",
              "...         ...     ...          ...      ...         ...        ...   \n",
              "27477  44824410  1357.0         FIAT    Stilo        2004  Universal   \n",
              "27478  45682346     0.0          BMW  528 F10        2012      Sedan   \n",
              "27479  45649860  1646.0        LEXUS   GX 460        2015       Jeep   \n",
              "27480  45809706   784.0       TOYOTA     Aqua        2017  Hatchback   \n",
              "27481  45813163   448.0        HONDA  Insight        2012  Hatchback   \n",
              "\n",
              "      Leather interior Fuel type  Engine volume   Mileage  Cylinders  \\\n",
              "0                  Yes    Hybrid            3.5  186005.0        6.0   \n",
              "1                   No    Petrol            3.0  192000.0        6.0   \n",
              "2                   No    Petrol            1.3  200000.0        4.0   \n",
              "3                  Yes    Hybrid            2.5  168966.0        4.0   \n",
              "4                  Yes    Petrol            1.3   91901.0        4.0   \n",
              "...                ...       ...            ...       ...        ...   \n",
              "27477               No    Petrol            1.6  164000.0        4.0   \n",
              "27478              Yes    Petrol            2.8  156000.0        4.0   \n",
              "27479              Yes    Petrol            4.6  102907.0        8.0   \n",
              "27480              Yes    Petrol            1.5    3000.0        4.0   \n",
              "27481              Yes    Hybrid            1.3  321269.0        4.0   \n",
              "\n",
              "      Gear box type Drive wheels Doors             Wheel   Color  Airbags  \n",
              "0         Automatic          4x4    04        Left wheel  Silver       12  \n",
              "1         Tiptronic          4x4    04        Left wheel   Black        8  \n",
              "2          Variator        Front    04  Right-hand drive   Black        2  \n",
              "3         Automatic          4x4    04        Left wheel   White        0  \n",
              "4         Automatic        Front    04        Left wheel  Silver        4  \n",
              "...             ...          ...   ...               ...     ...      ...  \n",
              "27477        Manual        Front    04        Left wheel    Blue        6  \n",
              "27478     Tiptronic        Front    04        Left wheel   Black        6  \n",
              "27479     Automatic          4x4    04        Left wheel   Black        0  \n",
              "27480     Automatic        Front    04        Left wheel   Green        4  \n",
              "27481     Automatic        Front    04        Left wheel     Red       12  \n",
              "\n",
              "[27482 rows x 17 columns]"
            ]
          },
          "metadata": {
            "tags": []
          },
          "execution_count": 36
        }
      ]
    },
    {
      "cell_type": "code",
      "metadata": {
        "id": "AxEctpCVWMkw"
      },
      "source": [
        "#setting up the age of the car that is the difference between the current year and the Prod. Year\n",
        "import datetime as dt\n",
        "currt_time = dt.datetime.now()\n",
        "combined_data['Prod. year'] = currt_time.year - combined_data['Prod. year'] \n"
      ],
      "execution_count": null,
      "outputs": []
    },
    {
      "cell_type": "code",
      "metadata": {
        "id": "qf2GgVYd4DSc"
      },
      "source": [
        "#deleting the Model column as it has more biased data\n",
        "combined_data = combined_data.drop(['Model'],axis=1)"
      ],
      "execution_count": null,
      "outputs": []
    },
    {
      "cell_type": "code",
      "metadata": {
        "colab": {
          "base_uri": "https://localhost:8080/",
          "height": 327
        },
        "id": "Mrhu7wgkRKOY",
        "outputId": "d5ab8ecc-e3c5-4d39-80dd-d1c4d5c4377a"
      },
      "source": [
        "combined_data.head()"
      ],
      "execution_count": null,
      "outputs": [
        {
          "output_type": "execute_result",
          "data": {
            "text/html": [
              "<div>\n",
              "<style scoped>\n",
              "    .dataframe tbody tr th:only-of-type {\n",
              "        vertical-align: middle;\n",
              "    }\n",
              "\n",
              "    .dataframe tbody tr th {\n",
              "        vertical-align: top;\n",
              "    }\n",
              "\n",
              "    .dataframe thead th {\n",
              "        text-align: right;\n",
              "    }\n",
              "</style>\n",
              "<table border=\"1\" class=\"dataframe\">\n",
              "  <thead>\n",
              "    <tr style=\"text-align: right;\">\n",
              "      <th></th>\n",
              "      <th>ID</th>\n",
              "      <th>Levy</th>\n",
              "      <th>Manufacturer</th>\n",
              "      <th>Prod. year</th>\n",
              "      <th>Category</th>\n",
              "      <th>Leather interior</th>\n",
              "      <th>Fuel type</th>\n",
              "      <th>Engine volume</th>\n",
              "      <th>Mileage</th>\n",
              "      <th>Cylinders</th>\n",
              "      <th>Gear box type</th>\n",
              "      <th>Drive wheels</th>\n",
              "      <th>Doors</th>\n",
              "      <th>Wheel</th>\n",
              "      <th>Color</th>\n",
              "      <th>Airbags</th>\n",
              "    </tr>\n",
              "  </thead>\n",
              "  <tbody>\n",
              "    <tr>\n",
              "      <th>0</th>\n",
              "      <td>45654403</td>\n",
              "      <td>1399.0</td>\n",
              "      <td>LEXUS</td>\n",
              "      <td>11</td>\n",
              "      <td>Jeep</td>\n",
              "      <td>Yes</td>\n",
              "      <td>Hybrid</td>\n",
              "      <td>3.5</td>\n",
              "      <td>186005.0</td>\n",
              "      <td>6.0</td>\n",
              "      <td>Automatic</td>\n",
              "      <td>4x4</td>\n",
              "      <td>04</td>\n",
              "      <td>Left wheel</td>\n",
              "      <td>Silver</td>\n",
              "      <td>12</td>\n",
              "    </tr>\n",
              "    <tr>\n",
              "      <th>1</th>\n",
              "      <td>44731507</td>\n",
              "      <td>1018.0</td>\n",
              "      <td>CHEVROLET</td>\n",
              "      <td>10</td>\n",
              "      <td>Jeep</td>\n",
              "      <td>No</td>\n",
              "      <td>Petrol</td>\n",
              "      <td>3.0</td>\n",
              "      <td>192000.0</td>\n",
              "      <td>6.0</td>\n",
              "      <td>Tiptronic</td>\n",
              "      <td>4x4</td>\n",
              "      <td>04</td>\n",
              "      <td>Left wheel</td>\n",
              "      <td>Black</td>\n",
              "      <td>8</td>\n",
              "    </tr>\n",
              "    <tr>\n",
              "      <th>2</th>\n",
              "      <td>45774419</td>\n",
              "      <td>0.0</td>\n",
              "      <td>HONDA</td>\n",
              "      <td>15</td>\n",
              "      <td>Hatchback</td>\n",
              "      <td>No</td>\n",
              "      <td>Petrol</td>\n",
              "      <td>1.3</td>\n",
              "      <td>200000.0</td>\n",
              "      <td>4.0</td>\n",
              "      <td>Variator</td>\n",
              "      <td>Front</td>\n",
              "      <td>04</td>\n",
              "      <td>Right-hand drive</td>\n",
              "      <td>Black</td>\n",
              "      <td>2</td>\n",
              "    </tr>\n",
              "    <tr>\n",
              "      <th>3</th>\n",
              "      <td>45769185</td>\n",
              "      <td>862.0</td>\n",
              "      <td>FORD</td>\n",
              "      <td>10</td>\n",
              "      <td>Jeep</td>\n",
              "      <td>Yes</td>\n",
              "      <td>Hybrid</td>\n",
              "      <td>2.5</td>\n",
              "      <td>168966.0</td>\n",
              "      <td>4.0</td>\n",
              "      <td>Automatic</td>\n",
              "      <td>4x4</td>\n",
              "      <td>04</td>\n",
              "      <td>Left wheel</td>\n",
              "      <td>White</td>\n",
              "      <td>0</td>\n",
              "    </tr>\n",
              "    <tr>\n",
              "      <th>4</th>\n",
              "      <td>45809263</td>\n",
              "      <td>446.0</td>\n",
              "      <td>HONDA</td>\n",
              "      <td>7</td>\n",
              "      <td>Hatchback</td>\n",
              "      <td>Yes</td>\n",
              "      <td>Petrol</td>\n",
              "      <td>1.3</td>\n",
              "      <td>91901.0</td>\n",
              "      <td>4.0</td>\n",
              "      <td>Automatic</td>\n",
              "      <td>Front</td>\n",
              "      <td>04</td>\n",
              "      <td>Left wheel</td>\n",
              "      <td>Silver</td>\n",
              "      <td>4</td>\n",
              "    </tr>\n",
              "  </tbody>\n",
              "</table>\n",
              "</div>"
            ],
            "text/plain": [
              "         ID    Levy Manufacturer  Prod. year   Category Leather interior  \\\n",
              "0  45654403  1399.0        LEXUS          11       Jeep              Yes   \n",
              "1  44731507  1018.0    CHEVROLET          10       Jeep               No   \n",
              "2  45774419     0.0        HONDA          15  Hatchback               No   \n",
              "3  45769185   862.0         FORD          10       Jeep              Yes   \n",
              "4  45809263   446.0        HONDA           7  Hatchback              Yes   \n",
              "\n",
              "  Fuel type  Engine volume   Mileage  Cylinders Gear box type Drive wheels  \\\n",
              "0    Hybrid            3.5  186005.0        6.0     Automatic          4x4   \n",
              "1    Petrol            3.0  192000.0        6.0     Tiptronic          4x4   \n",
              "2    Petrol            1.3  200000.0        4.0      Variator        Front   \n",
              "3    Hybrid            2.5  168966.0        4.0     Automatic          4x4   \n",
              "4    Petrol            1.3   91901.0        4.0     Automatic        Front   \n",
              "\n",
              "  Doors             Wheel   Color  Airbags  \n",
              "0    04        Left wheel  Silver       12  \n",
              "1    04        Left wheel   Black        8  \n",
              "2    04  Right-hand drive   Black        2  \n",
              "3    04        Left wheel   White        0  \n",
              "4    04        Left wheel  Silver        4  "
            ]
          },
          "metadata": {
            "tags": []
          },
          "execution_count": 39
        }
      ]
    },
    {
      "cell_type": "code",
      "metadata": {
        "id": "GC7kMjNS7NVr"
      },
      "source": [
        "#replaceing the 0 values of Levy column with its mean()\n",
        "combined_data.Levy = np.where(combined_data.Levy == 0.0,combined_data.Levy.mean(),combined_data.Levy)"
      ],
      "execution_count": null,
      "outputs": []
    },
    {
      "cell_type": "code",
      "metadata": {
        "id": "zGWvNO6C7kWP"
      },
      "source": [
        "categ = combined_data.select_dtypes(include='object')\n",
        "num = combined_data.select_dtypes(include = np.number)"
      ],
      "execution_count": null,
      "outputs": []
    },
    {
      "cell_type": "code",
      "metadata": {
        "id": "N4o6kHK67kWQ"
      },
      "source": [
        "cat_dummies = pd.get_dummies(categ,drop_first=True)"
      ],
      "execution_count": null,
      "outputs": []
    },
    {
      "cell_type": "code",
      "metadata": {
        "id": "_n-xWwvR7kWQ"
      },
      "source": [
        "#final_data whch will be used for training the model\n",
        "final_data = pd.concat([num,cat_dummies], axis=1)"
      ],
      "execution_count": null,
      "outputs": []
    },
    {
      "cell_type": "code",
      "metadata": {
        "id": "vetXE6RR7kWR",
        "colab": {
          "base_uri": "https://localhost:8080/"
        },
        "outputId": "a2d23165-ad68-46a6-b98c-56cd99899922"
      },
      "source": [
        "final_data.shape"
      ],
      "execution_count": null,
      "outputs": [
        {
          "output_type": "execute_result",
          "data": {
            "text/plain": [
              "(27482, 114)"
            ]
          },
          "metadata": {
            "tags": []
          },
          "execution_count": 44
        }
      ]
    },
    {
      "cell_type": "code",
      "metadata": {
        "id": "PRMGJdG47kWS",
        "colab": {
          "base_uri": "https://localhost:8080/"
        },
        "outputId": "9e069e23-b181-46f5-dc0a-2ee64ea4953f"
      },
      "source": [
        "#fetching the train data from the final_data\n",
        "train_data = final_data.iloc[:19237]\n",
        "train_data.shape"
      ],
      "execution_count": null,
      "outputs": [
        {
          "output_type": "execute_result",
          "data": {
            "text/plain": [
              "(19237, 114)"
            ]
          },
          "metadata": {
            "tags": []
          },
          "execution_count": 48
        }
      ]
    },
    {
      "cell_type": "code",
      "metadata": {
        "id": "Oou8hrzn7kWT",
        "colab": {
          "base_uri": "https://localhost:8080/"
        },
        "outputId": "c43d7f9f-3268-4aeb-a1c6-9bddb1b3507e"
      },
      "source": [
        "#fetching the test data from the final_data\n",
        "test_data = final_data.iloc[19237:]\n",
        "test_data.shape"
      ],
      "execution_count": null,
      "outputs": [
        {
          "output_type": "execute_result",
          "data": {
            "text/plain": [
              "(8245, 114)"
            ]
          },
          "metadata": {
            "tags": []
          },
          "execution_count": 49
        }
      ]
    },
    {
      "cell_type": "code",
      "metadata": {
        "id": "KQDhhaQgJfLY"
      },
      "source": [
        "#since the dependent variable is negatively skewed log transformation is used\n",
        "target = np.log(target)"
      ],
      "execution_count": null,
      "outputs": []
    },
    {
      "cell_type": "code",
      "metadata": {
        "colab": {
          "base_uri": "https://localhost:8080/"
        },
        "id": "AU3Nnxr__v7l",
        "outputId": "7923bb7f-8535-4195-cb03-a4c3d6dcd7c9"
      },
      "source": [
        "target"
      ],
      "execution_count": null,
      "outputs": [
        {
          "output_type": "execute_result",
          "data": {
            "text/plain": [
              "0         9.497622\n",
              "1         9.718422\n",
              "2         9.043932\n",
              "3         8.190632\n",
              "4         9.369564\n",
              "           ...    \n",
              "19232     9.043932\n",
              "19233     9.660205\n",
              "19234    10.169997\n",
              "19235     8.581294\n",
              "19236     6.152733\n",
              "Name: Price, Length: 19237, dtype: float64"
            ]
          },
          "metadata": {
            "tags": []
          },
          "execution_count": 50
        }
      ]
    },
    {
      "cell_type": "code",
      "metadata": {
        "id": "HjSPLHNI7kWT"
      },
      "source": [
        "#training the model with the train data\n",
        "from sklearn.model_selection import train_test_split\n",
        "import statsmodels.api as sm\n",
        "\n",
        "X = train_data\n",
        "Y=target\n",
        "\n",
        "X_train, X_test, Y_train, Y_test = train_test_split(X,Y, test_size=0.3, random_state=10)\n"
      ],
      "execution_count": null,
      "outputs": []
    },
    {
      "cell_type": "code",
      "metadata": {
        "id": "_A39sByd7kWU"
      },
      "source": [
        "#Linear Regression\n",
        "from sklearn.metrics import mean_squared_error, mean_absolute_error, r2_score\n",
        "from sklearn.linear_model import LinearRegression\n",
        "from sklearn.feature_selection import RFE\n",
        "mod = LinearRegression()\n",
        "model1 = mod.fit(X_train,Y_train)"
      ],
      "execution_count": null,
      "outputs": []
    },
    {
      "cell_type": "code",
      "metadata": {
        "id": "2_aum1MI7kWV",
        "colab": {
          "base_uri": "https://localhost:8080/"
        },
        "outputId": "c573f8a0-e4fe-4f45-efdc-acef1a94da85"
      },
      "source": [
        "from statsmodels.tools.eval_measures import rmse\n",
        "model1_predicted = model1.predict(X_test)\n",
        "model1_rmse = rmse(Y_test,model1_predicted)\n",
        "print('Linear Regression', model1_rmse)"
      ],
      "execution_count": null,
      "outputs": [
        {
          "output_type": "stream",
          "text": [
            "Linear Regression 1.3783490489149832\n"
          ],
          "name": "stdout"
        }
      ]
    },
    {
      "cell_type": "code",
      "metadata": {
        "colab": {
          "base_uri": "https://localhost:8080/"
        },
        "id": "ESYVEF7V5IGd",
        "outputId": "82999ca2-0629-49e4-80c8-c7a400f86a7e"
      },
      "source": [
        "from sklearn.metrics import mean_squared_log_error\n",
        "print('Linear Regression',np.sqrt(mean_squared_log_error(np.exp(Y_test), np.exp(model1_predicted))))"
      ],
      "execution_count": null,
      "outputs": [
        {
          "output_type": "stream",
          "text": [
            "Linear Regression 1.374267884228672\n"
          ],
          "name": "stdout"
        }
      ]
    },
    {
      "cell_type": "code",
      "metadata": {
        "id": "0_rxr9ujFC7R"
      },
      "source": [
        "#RandomForestRegressor\n",
        "from sklearn.ensemble import RandomForestRegressor\n",
        "mod2 = RandomForestRegressor(n_estimators=100,random_state=10)\n",
        "model2 = mod2.fit(X_train,Y_train)"
      ],
      "execution_count": null,
      "outputs": []
    },
    {
      "cell_type": "code",
      "metadata": {
        "colab": {
          "base_uri": "https://localhost:8080/"
        },
        "id": "rvfRI3-Ph_W7",
        "outputId": "ca428199-053f-482a-a481-d090da11d694"
      },
      "source": [
        "from statsmodels.tools.eval_measures import rmse\n",
        "model2_predicted = model2.predict(X_test)\n",
        "model2_rmse = rmse(Y_test,model2_predicted)\n",
        "model2_rmse"
      ],
      "execution_count": null,
      "outputs": [
        {
          "output_type": "execute_result",
          "data": {
            "text/plain": [
              "0.8778974869713481"
            ]
          },
          "metadata": {
            "tags": []
          },
          "execution_count": 56
        }
      ]
    },
    {
      "cell_type": "code",
      "metadata": {
        "colab": {
          "base_uri": "https://localhost:8080/"
        },
        "id": "JybGje8EyM1e",
        "outputId": "10d1983e-91d3-4356-e262-903bb15eb320"
      },
      "source": [
        "print('RandomForestRegressor',np.sqrt(mean_squared_log_error(np.exp(Y_test),np.exp(model2_predicted))))"
      ],
      "execution_count": null,
      "outputs": [
        {
          "output_type": "stream",
          "text": [
            "RandomForestRegressor 0.8734562325947708\n"
          ],
          "name": "stdout"
        }
      ]
    },
    {
      "cell_type": "code",
      "metadata": {
        "id": "irGS60ySFPUd"
      },
      "source": [
        "from sklearn.model_selection import RandomizedSearchCV"
      ],
      "execution_count": null,
      "outputs": []
    },
    {
      "cell_type": "code",
      "metadata": {
        "id": "3XpTe2cMGuJa"
      },
      "source": [
        "\n",
        "#Randomized Search CV to tune the RandomForest\n",
        "\n",
        "# Number of trees in random forest\n",
        "n_estimators = [int(x) for x in np.linspace(start = 100, stop = 1200, num = 12)]\n",
        "# Number of features to consider at every split\n",
        "max_features = ['auto', 'sqrt']\n",
        "# Maximum number of levels in tree\n",
        "max_depth = [int(x) for x in np.linspace(5, 30, num = 6)]\n",
        "# max_depth.append(None)\n",
        "# Minimum number of samples required to split a node\n",
        "min_samples_split = [2, 5, 10, 15, 100]\n",
        "# Minimum number of samples required at each leaf node\n",
        "min_samples_leaf = [1, 2, 5, 10]"
      ],
      "execution_count": null,
      "outputs": []
    },
    {
      "cell_type": "code",
      "metadata": {
        "colab": {
          "base_uri": "https://localhost:8080/"
        },
        "id": "qHuflxZyHKtH",
        "outputId": "7198df02-649b-41de-eb2d-85f3c6d426f6"
      },
      "source": [
        "\n",
        "# Create the random grid\n",
        "random_grid = {'n_estimators': n_estimators,\n",
        "               'max_features': max_features,\n",
        "               'max_depth': max_depth,\n",
        "               'min_samples_split': min_samples_split,\n",
        "               'min_samples_leaf': min_samples_leaf}\n",
        "\n",
        "print(random_grid)"
      ],
      "execution_count": null,
      "outputs": [
        {
          "output_type": "stream",
          "text": [
            "{'n_estimators': [100, 200, 300, 400, 500, 600, 700, 800, 900, 1000, 1100, 1200], 'max_features': ['auto', 'sqrt'], 'max_depth': [5, 10, 15, 20, 25, 30], 'min_samples_split': [2, 5, 10, 15, 100], 'min_samples_leaf': [1, 2, 5, 10]}\n"
          ],
          "name": "stdout"
        }
      ]
    },
    {
      "cell_type": "code",
      "metadata": {
        "id": "_IpjhRLBHOVo"
      },
      "source": [
        "rf = RandomForestRegressor()"
      ],
      "execution_count": null,
      "outputs": []
    },
    {
      "cell_type": "code",
      "metadata": {
        "id": "SWomVWooHLjc"
      },
      "source": [
        "rf_random = RandomizedSearchCV(estimator = rf, param_distributions = random_grid,scoring='neg_mean_squared_error', n_iter = 10, cv = 5, verbose=2, random_state=42, n_jobs = 1)"
      ],
      "execution_count": null,
      "outputs": []
    },
    {
      "cell_type": "code",
      "metadata": {
        "colab": {
          "base_uri": "https://localhost:8080/"
        },
        "id": "VhZUdeNGHcS_",
        "outputId": "155479e0-37c3-4238-a934-3dbde88bcf3b"
      },
      "source": [
        "rf_random.fit(X_train,Y_train)"
      ],
      "execution_count": null,
      "outputs": [
        {
          "output_type": "stream",
          "text": [
            "Fitting 5 folds for each of 10 candidates, totalling 50 fits\n",
            "[CV] n_estimators=900, min_samples_split=5, min_samples_leaf=5, max_features=sqrt, max_depth=10 \n"
          ],
          "name": "stdout"
        },
        {
          "output_type": "stream",
          "text": [
            "[Parallel(n_jobs=1)]: Using backend SequentialBackend with 1 concurrent workers.\n"
          ],
          "name": "stderr"
        },
        {
          "output_type": "stream",
          "text": [
            "[CV]  n_estimators=900, min_samples_split=5, min_samples_leaf=5, max_features=sqrt, max_depth=10, total=   7.6s\n",
            "[CV] n_estimators=900, min_samples_split=5, min_samples_leaf=5, max_features=sqrt, max_depth=10 \n"
          ],
          "name": "stdout"
        },
        {
          "output_type": "stream",
          "text": [
            "[Parallel(n_jobs=1)]: Done   1 out of   1 | elapsed:    7.6s remaining:    0.0s\n"
          ],
          "name": "stderr"
        },
        {
          "output_type": "stream",
          "text": [
            "[CV]  n_estimators=900, min_samples_split=5, min_samples_leaf=5, max_features=sqrt, max_depth=10, total=   7.6s\n",
            "[CV] n_estimators=900, min_samples_split=5, min_samples_leaf=5, max_features=sqrt, max_depth=10 \n",
            "[CV]  n_estimators=900, min_samples_split=5, min_samples_leaf=5, max_features=sqrt, max_depth=10, total=   7.5s\n",
            "[CV] n_estimators=900, min_samples_split=5, min_samples_leaf=5, max_features=sqrt, max_depth=10 \n",
            "[CV]  n_estimators=900, min_samples_split=5, min_samples_leaf=5, max_features=sqrt, max_depth=10, total=   7.4s\n",
            "[CV] n_estimators=900, min_samples_split=5, min_samples_leaf=5, max_features=sqrt, max_depth=10 \n",
            "[CV]  n_estimators=900, min_samples_split=5, min_samples_leaf=5, max_features=sqrt, max_depth=10, total=   7.4s\n",
            "[CV] n_estimators=1100, min_samples_split=10, min_samples_leaf=2, max_features=sqrt, max_depth=15 \n",
            "[CV]  n_estimators=1100, min_samples_split=10, min_samples_leaf=2, max_features=sqrt, max_depth=15, total=  12.2s\n",
            "[CV] n_estimators=1100, min_samples_split=10, min_samples_leaf=2, max_features=sqrt, max_depth=15 \n",
            "[CV]  n_estimators=1100, min_samples_split=10, min_samples_leaf=2, max_features=sqrt, max_depth=15, total=  12.2s\n",
            "[CV] n_estimators=1100, min_samples_split=10, min_samples_leaf=2, max_features=sqrt, max_depth=15 \n",
            "[CV]  n_estimators=1100, min_samples_split=10, min_samples_leaf=2, max_features=sqrt, max_depth=15, total=  12.2s\n",
            "[CV] n_estimators=1100, min_samples_split=10, min_samples_leaf=2, max_features=sqrt, max_depth=15 \n",
            "[CV]  n_estimators=1100, min_samples_split=10, min_samples_leaf=2, max_features=sqrt, max_depth=15, total=  12.3s\n",
            "[CV] n_estimators=1100, min_samples_split=10, min_samples_leaf=2, max_features=sqrt, max_depth=15 \n",
            "[CV]  n_estimators=1100, min_samples_split=10, min_samples_leaf=2, max_features=sqrt, max_depth=15, total=  12.4s\n",
            "[CV] n_estimators=300, min_samples_split=100, min_samples_leaf=5, max_features=auto, max_depth=15 \n",
            "[CV]  n_estimators=300, min_samples_split=100, min_samples_leaf=5, max_features=auto, max_depth=15, total=  16.6s\n",
            "[CV] n_estimators=300, min_samples_split=100, min_samples_leaf=5, max_features=auto, max_depth=15 \n",
            "[CV]  n_estimators=300, min_samples_split=100, min_samples_leaf=5, max_features=auto, max_depth=15, total=  16.8s\n",
            "[CV] n_estimators=300, min_samples_split=100, min_samples_leaf=5, max_features=auto, max_depth=15 \n",
            "[CV]  n_estimators=300, min_samples_split=100, min_samples_leaf=5, max_features=auto, max_depth=15, total=  16.3s\n",
            "[CV] n_estimators=300, min_samples_split=100, min_samples_leaf=5, max_features=auto, max_depth=15 \n",
            "[CV]  n_estimators=300, min_samples_split=100, min_samples_leaf=5, max_features=auto, max_depth=15, total=  16.2s\n",
            "[CV] n_estimators=300, min_samples_split=100, min_samples_leaf=5, max_features=auto, max_depth=15 \n",
            "[CV]  n_estimators=300, min_samples_split=100, min_samples_leaf=5, max_features=auto, max_depth=15, total=  16.2s\n",
            "[CV] n_estimators=400, min_samples_split=5, min_samples_leaf=5, max_features=auto, max_depth=15 \n",
            "[CV]  n_estimators=400, min_samples_split=5, min_samples_leaf=5, max_features=auto, max_depth=15, total=  26.4s\n",
            "[CV] n_estimators=400, min_samples_split=5, min_samples_leaf=5, max_features=auto, max_depth=15 \n",
            "[CV]  n_estimators=400, min_samples_split=5, min_samples_leaf=5, max_features=auto, max_depth=15, total=  26.6s\n",
            "[CV] n_estimators=400, min_samples_split=5, min_samples_leaf=5, max_features=auto, max_depth=15 \n",
            "[CV]  n_estimators=400, min_samples_split=5, min_samples_leaf=5, max_features=auto, max_depth=15, total=  26.3s\n",
            "[CV] n_estimators=400, min_samples_split=5, min_samples_leaf=5, max_features=auto, max_depth=15 \n",
            "[CV]  n_estimators=400, min_samples_split=5, min_samples_leaf=5, max_features=auto, max_depth=15, total=  26.1s\n",
            "[CV] n_estimators=400, min_samples_split=5, min_samples_leaf=5, max_features=auto, max_depth=15 \n",
            "[CV]  n_estimators=400, min_samples_split=5, min_samples_leaf=5, max_features=auto, max_depth=15, total=  26.4s\n",
            "[CV] n_estimators=700, min_samples_split=5, min_samples_leaf=10, max_features=auto, max_depth=20 \n",
            "[CV]  n_estimators=700, min_samples_split=5, min_samples_leaf=10, max_features=auto, max_depth=20, total=  43.9s\n",
            "[CV] n_estimators=700, min_samples_split=5, min_samples_leaf=10, max_features=auto, max_depth=20 \n",
            "[CV]  n_estimators=700, min_samples_split=5, min_samples_leaf=10, max_features=auto, max_depth=20, total=  44.3s\n",
            "[CV] n_estimators=700, min_samples_split=5, min_samples_leaf=10, max_features=auto, max_depth=20 \n",
            "[CV]  n_estimators=700, min_samples_split=5, min_samples_leaf=10, max_features=auto, max_depth=20, total=  43.6s\n",
            "[CV] n_estimators=700, min_samples_split=5, min_samples_leaf=10, max_features=auto, max_depth=20 \n",
            "[CV]  n_estimators=700, min_samples_split=5, min_samples_leaf=10, max_features=auto, max_depth=20, total=  43.8s\n",
            "[CV] n_estimators=700, min_samples_split=5, min_samples_leaf=10, max_features=auto, max_depth=20 \n",
            "[CV]  n_estimators=700, min_samples_split=5, min_samples_leaf=10, max_features=auto, max_depth=20, total=  44.0s\n",
            "[CV] n_estimators=1000, min_samples_split=2, min_samples_leaf=1, max_features=sqrt, max_depth=25 \n",
            "[CV]  n_estimators=1000, min_samples_split=2, min_samples_leaf=1, max_features=sqrt, max_depth=25, total=  22.4s\n",
            "[CV] n_estimators=1000, min_samples_split=2, min_samples_leaf=1, max_features=sqrt, max_depth=25 \n",
            "[CV]  n_estimators=1000, min_samples_split=2, min_samples_leaf=1, max_features=sqrt, max_depth=25, total=  22.5s\n",
            "[CV] n_estimators=1000, min_samples_split=2, min_samples_leaf=1, max_features=sqrt, max_depth=25 \n",
            "[CV]  n_estimators=1000, min_samples_split=2, min_samples_leaf=1, max_features=sqrt, max_depth=25, total=  21.7s\n",
            "[CV] n_estimators=1000, min_samples_split=2, min_samples_leaf=1, max_features=sqrt, max_depth=25 \n",
            "[CV]  n_estimators=1000, min_samples_split=2, min_samples_leaf=1, max_features=sqrt, max_depth=25, total=  21.3s\n",
            "[CV] n_estimators=1000, min_samples_split=2, min_samples_leaf=1, max_features=sqrt, max_depth=25 \n",
            "[CV]  n_estimators=1000, min_samples_split=2, min_samples_leaf=1, max_features=sqrt, max_depth=25, total=  22.0s\n",
            "[CV] n_estimators=1100, min_samples_split=15, min_samples_leaf=10, max_features=sqrt, max_depth=5 \n",
            "[CV]  n_estimators=1100, min_samples_split=15, min_samples_leaf=10, max_features=sqrt, max_depth=5, total=   5.4s\n",
            "[CV] n_estimators=1100, min_samples_split=15, min_samples_leaf=10, max_features=sqrt, max_depth=5 \n",
            "[CV]  n_estimators=1100, min_samples_split=15, min_samples_leaf=10, max_features=sqrt, max_depth=5, total=   5.4s\n",
            "[CV] n_estimators=1100, min_samples_split=15, min_samples_leaf=10, max_features=sqrt, max_depth=5 \n",
            "[CV]  n_estimators=1100, min_samples_split=15, min_samples_leaf=10, max_features=sqrt, max_depth=5, total=   5.5s\n",
            "[CV] n_estimators=1100, min_samples_split=15, min_samples_leaf=10, max_features=sqrt, max_depth=5 \n",
            "[CV]  n_estimators=1100, min_samples_split=15, min_samples_leaf=10, max_features=sqrt, max_depth=5, total=   5.3s\n",
            "[CV] n_estimators=1100, min_samples_split=15, min_samples_leaf=10, max_features=sqrt, max_depth=5 \n",
            "[CV]  n_estimators=1100, min_samples_split=15, min_samples_leaf=10, max_features=sqrt, max_depth=5, total=   5.4s\n",
            "[CV] n_estimators=300, min_samples_split=15, min_samples_leaf=1, max_features=sqrt, max_depth=15 \n",
            "[CV]  n_estimators=300, min_samples_split=15, min_samples_leaf=1, max_features=sqrt, max_depth=15, total=   3.3s\n",
            "[CV] n_estimators=300, min_samples_split=15, min_samples_leaf=1, max_features=sqrt, max_depth=15 \n",
            "[CV]  n_estimators=300, min_samples_split=15, min_samples_leaf=1, max_features=sqrt, max_depth=15, total=   3.3s\n",
            "[CV] n_estimators=300, min_samples_split=15, min_samples_leaf=1, max_features=sqrt, max_depth=15 \n",
            "[CV]  n_estimators=300, min_samples_split=15, min_samples_leaf=1, max_features=sqrt, max_depth=15, total=   3.4s\n",
            "[CV] n_estimators=300, min_samples_split=15, min_samples_leaf=1, max_features=sqrt, max_depth=15 \n",
            "[CV]  n_estimators=300, min_samples_split=15, min_samples_leaf=1, max_features=sqrt, max_depth=15, total=   3.4s\n",
            "[CV] n_estimators=300, min_samples_split=15, min_samples_leaf=1, max_features=sqrt, max_depth=15 \n",
            "[CV]  n_estimators=300, min_samples_split=15, min_samples_leaf=1, max_features=sqrt, max_depth=15, total=   3.4s\n",
            "[CV] n_estimators=700, min_samples_split=10, min_samples_leaf=2, max_features=sqrt, max_depth=5 \n",
            "[CV]  n_estimators=700, min_samples_split=10, min_samples_leaf=2, max_features=sqrt, max_depth=5, total=   3.6s\n",
            "[CV] n_estimators=700, min_samples_split=10, min_samples_leaf=2, max_features=sqrt, max_depth=5 \n",
            "[CV]  n_estimators=700, min_samples_split=10, min_samples_leaf=2, max_features=sqrt, max_depth=5, total=   3.4s\n",
            "[CV] n_estimators=700, min_samples_split=10, min_samples_leaf=2, max_features=sqrt, max_depth=5 \n",
            "[CV]  n_estimators=700, min_samples_split=10, min_samples_leaf=2, max_features=sqrt, max_depth=5, total=   3.5s\n",
            "[CV] n_estimators=700, min_samples_split=10, min_samples_leaf=2, max_features=sqrt, max_depth=5 \n",
            "[CV]  n_estimators=700, min_samples_split=10, min_samples_leaf=2, max_features=sqrt, max_depth=5, total=   3.6s\n",
            "[CV] n_estimators=700, min_samples_split=10, min_samples_leaf=2, max_features=sqrt, max_depth=5 \n",
            "[CV]  n_estimators=700, min_samples_split=10, min_samples_leaf=2, max_features=sqrt, max_depth=5, total=   3.5s\n",
            "[CV] n_estimators=700, min_samples_split=15, min_samples_leaf=1, max_features=auto, max_depth=20 \n",
            "[CV]  n_estimators=700, min_samples_split=15, min_samples_leaf=1, max_features=auto, max_depth=20, total=  53.2s\n",
            "[CV] n_estimators=700, min_samples_split=15, min_samples_leaf=1, max_features=auto, max_depth=20 \n",
            "[CV]  n_estimators=700, min_samples_split=15, min_samples_leaf=1, max_features=auto, max_depth=20, total=  53.4s\n",
            "[CV] n_estimators=700, min_samples_split=15, min_samples_leaf=1, max_features=auto, max_depth=20 \n",
            "[CV]  n_estimators=700, min_samples_split=15, min_samples_leaf=1, max_features=auto, max_depth=20, total=  54.2s\n",
            "[CV] n_estimators=700, min_samples_split=15, min_samples_leaf=1, max_features=auto, max_depth=20 \n",
            "[CV]  n_estimators=700, min_samples_split=15, min_samples_leaf=1, max_features=auto, max_depth=20, total=  52.4s\n",
            "[CV] n_estimators=700, min_samples_split=15, min_samples_leaf=1, max_features=auto, max_depth=20 \n",
            "[CV]  n_estimators=700, min_samples_split=15, min_samples_leaf=1, max_features=auto, max_depth=20, total=  53.2s\n"
          ],
          "name": "stdout"
        },
        {
          "output_type": "stream",
          "text": [
            "[Parallel(n_jobs=1)]: Done  50 out of  50 | elapsed: 16.2min finished\n"
          ],
          "name": "stderr"
        },
        {
          "output_type": "execute_result",
          "data": {
            "text/plain": [
              "RandomizedSearchCV(cv=5, error_score=nan,\n",
              "                   estimator=RandomForestRegressor(bootstrap=True,\n",
              "                                                   ccp_alpha=0.0,\n",
              "                                                   criterion='mse',\n",
              "                                                   max_depth=None,\n",
              "                                                   max_features='auto',\n",
              "                                                   max_leaf_nodes=None,\n",
              "                                                   max_samples=None,\n",
              "                                                   min_impurity_decrease=0.0,\n",
              "                                                   min_impurity_split=None,\n",
              "                                                   min_samples_leaf=1,\n",
              "                                                   min_samples_split=2,\n",
              "                                                   min_weight_fraction_leaf=0.0,\n",
              "                                                   n_estimators=100,\n",
              "                                                   n_jobs=None, oob_score=Fals...\n",
              "                   iid='deprecated', n_iter=10, n_jobs=1,\n",
              "                   param_distributions={'max_depth': [5, 10, 15, 20, 25, 30],\n",
              "                                        'max_features': ['auto', 'sqrt'],\n",
              "                                        'min_samples_leaf': [1, 2, 5, 10],\n",
              "                                        'min_samples_split': [2, 5, 10, 15,\n",
              "                                                              100],\n",
              "                                        'n_estimators': [100, 200, 300, 400,\n",
              "                                                         500, 600, 700, 800,\n",
              "                                                         900, 1000, 1100,\n",
              "                                                         1200]},\n",
              "                   pre_dispatch='2*n_jobs', random_state=42, refit=True,\n",
              "                   return_train_score=False, scoring='neg_mean_squared_error',\n",
              "                   verbose=2)"
            ]
          },
          "metadata": {
            "tags": []
          },
          "execution_count": 63
        }
      ]
    },
    {
      "cell_type": "code",
      "metadata": {
        "colab": {
          "base_uri": "https://localhost:8080/"
        },
        "id": "cj5dL0vUH3bu",
        "outputId": "576a7366-4133-4a23-8871-4a9a467e41e8"
      },
      "source": [
        "rf_random.best_params_"
      ],
      "execution_count": null,
      "outputs": [
        {
          "output_type": "execute_result",
          "data": {
            "text/plain": [
              "{'max_depth': 25,\n",
              " 'max_features': 'sqrt',\n",
              " 'min_samples_leaf': 1,\n",
              " 'min_samples_split': 2,\n",
              " 'n_estimators': 1000}"
            ]
          },
          "metadata": {
            "tags": []
          },
          "execution_count": 64
        }
      ]
    },
    {
      "cell_type": "code",
      "metadata": {
        "id": "Uk1vjchQLiHR"
      },
      "source": [
        "predictions=rf_random.predict(X_test)"
      ],
      "execution_count": null,
      "outputs": []
    },
    {
      "cell_type": "code",
      "metadata": {
        "colab": {
          "base_uri": "https://localhost:8080/"
        },
        "id": "CHf_eAZQLorK",
        "outputId": "54326a06-25fb-40f1-9d3b-ce8a4e3a12d8"
      },
      "source": [
        "print('RandomForest_Search', np.sqrt(mean_squared_log_error(np.exp(Y_test),np.exp(predictions))))"
      ],
      "execution_count": null,
      "outputs": [
        {
          "output_type": "stream",
          "text": [
            "RandomForest_Search 0.8661790773394549\n"
          ],
          "name": "stdout"
        }
      ]
    },
    {
      "cell_type": "code",
      "metadata": {
        "id": "uddox5y1v3T2"
      },
      "source": [
        "#this is the best model hence we'll be considering this to generate the test predictions\n",
        "test_data_predicted = rf_random.predict(test_data)\n",
        "dt2 = pd.DataFrame(np.exp(test_data_predicted))\n",
        "dt2.to_csv('/content/drive/MyDrive/ML Projects/Car_Price_Prediction/sol.csv',index=False)"
      ],
      "execution_count": null,
      "outputs": []
    },
    {
      "cell_type": "code",
      "metadata": {
        "id": "94dcOUKYLxF-"
      },
      "source": [
        "#RandomForest based on the best features from the RandomSearchCV\n",
        "mod3 = RandomForestRegressor(n_estimators= 1000, max_depth= 25,\n",
        " max_features= 'sqrt',\n",
        " min_samples_leaf=1,\n",
        " min_samples_split = 2\n",
        " )"
      ],
      "execution_count": null,
      "outputs": []
    },
    {
      "cell_type": "code",
      "metadata": {
        "id": "3N-mn34GMQCS"
      },
      "source": [
        "model3 = mod3.fit(X_train, Y_train)"
      ],
      "execution_count": null,
      "outputs": []
    },
    {
      "cell_type": "code",
      "metadata": {
        "id": "wFYdWBcdMYMd"
      },
      "source": [
        "model3_predict=model3.predict(X_test)"
      ],
      "execution_count": null,
      "outputs": []
    },
    {
      "cell_type": "code",
      "metadata": {
        "colab": {
          "base_uri": "https://localhost:8080/"
        },
        "id": "RGkYJiBlMfIH",
        "outputId": "60de798c-1920-40f7-e200-8105294ea11b"
      },
      "source": [
        "print('Random Foresst with tuned parameters',np.sqrt(mean_squared_log_error(np.exp(Y_test),np.exp(model3_predict))))"
      ],
      "execution_count": null,
      "outputs": [
        {
          "output_type": "stream",
          "text": [
            "Random Foresst with tuned parameters 0.8635282349126835\n"
          ],
          "name": "stdout"
        }
      ]
    },
    {
      "cell_type": "markdown",
      "metadata": {
        "id": "NrJ1U0IAQc9f"
      },
      "source": [
        "Feature Selection using RandomForest"
      ]
    },
    {
      "cell_type": "code",
      "metadata": {
        "id": "tZ7XUZmpXVYL"
      },
      "source": [
        "from sklearn.ensemble import ExtraTreesRegressor"
      ],
      "execution_count": null,
      "outputs": []
    },
    {
      "cell_type": "code",
      "metadata": {
        "id": "HfMkFkTvXc4t"
      },
      "source": [
        "reg= ExtraTreesRegressor()\n",
        "model3 = reg.fit(X_train,Y_train)\n",
        "important_features = pd.Series(reg.feature_importances_, index=X_train.columns)"
      ],
      "execution_count": null,
      "outputs": []
    },
    {
      "cell_type": "code",
      "metadata": {
        "colab": {
          "base_uri": "https://localhost:8080/"
        },
        "id": "B-utv-UBQ3nl",
        "outputId": "8124ecfa-c6f0-4d31-e640-b1bb5c464ad4"
      },
      "source": [
        "pd.DataFrame(important_features.nlargest(100)).index"
      ],
      "execution_count": null,
      "outputs": [
        {
          "output_type": "execute_result",
          "data": {
            "text/plain": [
              "Index(['ID', 'Mileage', 'Airbags', 'Prod. year', 'Levy', 'Engine volume',\n",
              "       'Gear box type_Tiptronic', 'Leather interior_Yes', 'Fuel type_Hybrid',\n",
              "       'Cylinders', 'Fuel type_Diesel', 'Manufacturer_HYUNDAI', 'Color_White',\n",
              "       'Color_Black', 'Drive wheels_Front', 'Category_Sedan',\n",
              "       'Fuel type_Petrol', 'Category_Jeep', 'Color_Silver',\n",
              "       'Manufacturer_TOYOTA', 'Color_Grey', 'Wheel_Right-hand drive',\n",
              "       'Category_Hatchback', 'Gear box type_Variator', 'Manufacturer_HONDA',\n",
              "       'Manufacturer_MERCEDES-BENZ', 'Drive wheels_Rear', 'Color_Blue',\n",
              "       'Manufacturer_LEXUS', 'Gear box type_Manual', 'Manufacturer_SSANGYONG',\n",
              "       'Manufacturer_BMW', 'Manufacturer_FORD', 'Manufacturer_NISSAN',\n",
              "       'Doors_04', 'Fuel type_LPG', 'Color_Red', 'Manufacturer_CHEVROLET',\n",
              "       'Manufacturer_VOLKSWAGEN', 'Manufacturer_AUDI', 'Category_Minivan',\n",
              "       'Category_Coupe', 'Manufacturer_SUBARU', 'Manufacturer_KIA',\n",
              "       'Color_Brown', 'Color_Green', 'Manufacturer_MAZDA', 'Doors_>5',\n",
              "       'Manufacturer_OPEL', 'Manufacturer_MITSUBISHI', 'Manufacturer_PORSCHE',\n",
              "       'Category_Universal', 'Color_Carnelian red', 'Color_Sky blue',\n",
              "       'Manufacturer_JEEP', 'Category_Microbus', 'Color_Golden',\n",
              "       'Manufacturer_JAGUAR', 'Manufacturer_LAND ROVER', 'Color_Orange',\n",
              "       'Color_Purple', 'Fuel type_Plug-in Hybrid', 'Manufacturer_SUZUKI',\n",
              "       'Category_Goods wagon', 'Category_Pickup', 'Manufacturer_FIAT',\n",
              "       'Color_Yellow', 'Manufacturer_DAEWOO', 'Manufacturer_DODGE',\n",
              "       'Manufacturer_INFINITI', 'Manufacturer_MINI',\n",
              "       'Manufacturer_ROLLS-ROYCE', 'Manufacturer_VAZ', 'Color_Pink',\n",
              "       'Category_Limousine', 'Manufacturer_LINCOLN', 'Manufacturer_GAZ',\n",
              "       'Manufacturer_CHRYSLER', 'Manufacturer_CADILLAC', 'Manufacturer_GMC',\n",
              "       'Manufacturer_MASERATI', 'Manufacturer_BENTLEY', 'Manufacturer_RENAULT',\n",
              "       'Manufacturer_DAIHATSU', 'Manufacturer_VOLVO', 'Manufacturer_CITROEN',\n",
              "       'Manufacturer_BUICK', 'Manufacturer_MERCURY', 'Manufacturer_MOSKVICH',\n",
              "       'Manufacturer_SKODA', 'Manufacturer_PEUGEOT', 'Manufacturer_TESLA',\n",
              "       'Manufacturer_UAZ', 'Manufacturer_HUMMER', 'Manufacturer_FERRARI',\n",
              "       'Manufacturer_SCION', 'Manufacturer_SEAT', 'Manufacturer_სხვა',\n",
              "       'Manufacturer_SATURN', 'Manufacturer_ALFA ROMEO'],\n",
              "      dtype='object')"
            ]
          },
          "metadata": {
            "tags": []
          },
          "execution_count": 75
        }
      ]
    },
    {
      "cell_type": "code",
      "metadata": {
        "id": "xZygngUcRAcA"
      },
      "source": [
        "X1 = train_data[['ID', 'Mileage', 'Airbags', 'Prod. year', 'Levy', 'Engine volume',\n",
        "       'Gear box type_Tiptronic', 'Leather interior_Yes', 'Fuel type_Hybrid',\n",
        "       'Cylinders', 'Fuel type_Diesel', 'Color_White', 'Manufacturer_HYUNDAI',\n",
        "       'Color_Black', 'Drive wheels_Front', 'Category_Sedan',\n",
        "       'Fuel type_Petrol', 'Category_Jeep', 'Manufacturer_TOYOTA',\n",
        "       'Color_Silver', 'Color_Grey', 'Category_Hatchback',\n",
        "       'Wheel_Right-hand drive']]\n",
        "Y1=target\n",
        "\n",
        "X1_train, X1_test, Y1_train, Y1_test = train_test_split(X1,Y1, test_size=0.3, random_state=10)"
      ],
      "execution_count": null,
      "outputs": []
    },
    {
      "cell_type": "code",
      "metadata": {
        "id": "5VlMDz7HRaGO"
      },
      "source": [
        "model4 = rf.fit(X1_train, Y1_train)"
      ],
      "execution_count": null,
      "outputs": []
    },
    {
      "cell_type": "code",
      "metadata": {
        "id": "vnU65rk2R1SD"
      },
      "source": [
        "model4_predict=model4.predict(X1_test)"
      ],
      "execution_count": null,
      "outputs": []
    },
    {
      "cell_type": "code",
      "metadata": {
        "colab": {
          "base_uri": "https://localhost:8080/"
        },
        "id": "MM4OgjEqSCs_",
        "outputId": "bcd2470f-e827-41fa-8206-2104d7166694"
      },
      "source": [
        "np.sqrt(mean_squared_log_error(np.exp(Y1_test),np.exp(model4_predict)))"
      ],
      "execution_count": null,
      "outputs": [
        {
          "output_type": "execute_result",
          "data": {
            "text/plain": [
              "0.8771520037471914"
            ]
          },
          "metadata": {
            "tags": []
          },
          "execution_count": 84
        }
      ]
    },
    {
      "cell_type": "code",
      "metadata": {
        "id": "0ayCjFRHW4Ng"
      },
      "source": [
        ""
      ],
      "execution_count": null,
      "outputs": []
    },
    {
      "cell_type": "code",
      "metadata": {
        "colab": {
          "base_uri": "https://localhost:8080/"
        },
        "id": "7ZdRJDib4Fdp",
        "outputId": "b8f6170a-7add-43f7-ad3d-de906e7a40cb"
      },
      "source": [
        "x=[1,2,3]\n",
        "for i, n in enumerate(x):\n",
        "  print(n)"
      ],
      "execution_count": null,
      "outputs": [
        {
          "output_type": "stream",
          "name": "stdout",
          "text": [
            "1\n",
            "2\n",
            "3\n"
          ]
        }
      ]
    },
    {
      "cell_type": "code",
      "metadata": {
        "id": "lTdgEH39-Xta"
      },
      "source": [
        ""
      ],
      "execution_count": null,
      "outputs": []
    }
  ]
}